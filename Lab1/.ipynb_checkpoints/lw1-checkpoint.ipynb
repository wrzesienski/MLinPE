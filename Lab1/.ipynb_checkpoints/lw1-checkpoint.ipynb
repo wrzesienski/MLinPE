{
 "cells": [
  {
   "cell_type": "markdown",
   "metadata": {},
   "source": [
    "<html>\n",
    "<h2 style=\"text-align: center;line-height: 20%;\">Лабораторная работа №1</h2>\n",
    "\n",
    "<h3 style=\"text-align: center;line-height: 80%;\"><em>Решение задачи классификации пива по цвету с помощью методов k- ближайших соседей и Логистической регрессии</em></h3>\n",
    "\n",
    "<p style=\"text-align: right;line-height: 40%;\">Выполнил: студент группы Э-13м-1</p>\n",
    "\n",
    "<p style=\"text-align: right;line-height: 40%;\">Жещинский А.И.</p>\n",
    "\n",
    "<p style=\"text-align: right;line-height: 40%;\">Принял: </p>\n",
    "<h4 style=\"text-align: center;line-height: 100%;\"><em> Москва, 2020</em></h3>\n",
    "</body>\n",
    "</html>\n"
   ]
  },
  {
   "cell_type": "markdown",
   "metadata": {},
   "source": [
    "## Цель работы  \n"
   ]
  },
  {
   "cell_type": "code",
   "execution_count": null,
   "metadata": {},
   "outputs": [],
   "source": []
  },
  {
   "cell_type": "markdown",
   "metadata": {},
   "source": [
    "## Импорт библиотек"
   ]
  },
  {
   "cell_type": "code",
   "execution_count": 1,
   "metadata": {},
   "outputs": [],
   "source": [
    "import pandas as pd\n",
    "from sklearn.neighbors import KNeighborsClassifier\n",
    "from sklearn.model_selection import cross_val_score\n",
    "import warnings\n",
    "warnings.filterwarnings('ignore')"
   ]
  },
  {
   "cell_type": "markdown",
   "metadata": {},
   "source": [
    "## Чтение данных из .csv файла"
   ]
  },
  {
   "cell_type": "code",
   "execution_count": 2,
   "metadata": {},
   "outputs": [],
   "source": [
    "PATH = 'recipeData.csv'"
   ]
  },
  {
   "cell_type": "code",
   "execution_count": 4,
   "metadata": {},
   "outputs": [],
   "source": [
    "data = pd.read_csv(PATH, encoding=\"latin1\")\n",
    "pd.set_option('display.max_columns', None)\n",
    "pd.set_option('display.max_rows', 10)"
   ]
  },
  {
   "cell_type": "markdown",
   "metadata": {},
   "source": [
    "# Подготовка данных"
   ]
  },
  {
   "cell_type": "markdown",
   "metadata": {},
   "source": [
    "Удаление неинформативных столбцов из данных, переименование столбца Size(L) для более удобного написания"
   ]
  },
  {
   "cell_type": "code",
   "execution_count": 5,
   "metadata": {},
   "outputs": [],
   "source": [
    "prepared_data = data.dropna()\n",
    "prepared_data = prepared_data.drop(columns = ['BeerID', 'URL'])\n",
    "styles_dict = prepared_data[['Style','StyleID']]\n",
    "prepared_data = prepared_data.drop(['Style'], axis = 1)\n",
    "prepared_data = prepared_data.rename({'Size(L)' : 'Size'}, axis = 1)"
   ]
  },
  {
   "cell_type": "markdown",
   "metadata": {},
   "source": [
    "Удаление столбца BrewMethod ввиду отсутствия в нем уникальных значений"
   ]
  },
  {
   "cell_type": "code",
   "execution_count": 6,
   "metadata": {},
   "outputs": [
    {
     "data": {
      "text/plain": [
       "array(['All Grain'], dtype=object)"
      ]
     },
     "execution_count": 6,
     "metadata": {},
     "output_type": "execute_result"
    }
   ],
   "source": [
    "prepared_data['BrewMethod'].unique()"
   ]
  },
  {
   "cell_type": "code",
   "execution_count": 7,
   "metadata": {},
   "outputs": [],
   "source": [
    "prepared_data = prepared_data.drop(['BrewMethod'], axis = 1)"
   ]
  },
  {
   "cell_type": "markdown",
   "metadata": {},
   "source": [
    "Переустановка индексов датасета"
   ]
  },
  {
   "cell_type": "code",
   "execution_count": 8,
   "metadata": {},
   "outputs": [],
   "source": [
    "prepared_data.reset_index(inplace=True)"
   ]
  },
  {
   "cell_type": "markdown",
   "metadata": {},
   "source": [
    "Удаление лишнего столбца со старыми индексами"
   ]
  },
  {
   "cell_type": "code",
   "execution_count": 9,
   "metadata": {},
   "outputs": [],
   "source": [
    "prepared_data = prepared_data.drop(['index'], axis = 1)"
   ]
  },
  {
   "cell_type": "markdown",
   "metadata": {},
   "source": [
    "Подготовка датасета для бинарной классификации по цвету "
   ]
  },
  {
   "cell_type": "code",
   "execution_count": 10,
   "metadata": {},
   "outputs": [],
   "source": [
    "prepared_data['Color'] = prepared_data['Color'].apply(lambda x: 1.0 if x >= 15.0 else 0)"
   ]
  },
  {
   "cell_type": "code",
   "execution_count": 11,
   "metadata": {},
   "outputs": [
    {
     "data": {
      "text/html": [
       "<div>\n",
       "<style scoped>\n",
       "    .dataframe tbody tr th:only-of-type {\n",
       "        vertical-align: middle;\n",
       "    }\n",
       "\n",
       "    .dataframe tbody tr th {\n",
       "        vertical-align: top;\n",
       "    }\n",
       "\n",
       "    .dataframe thead th {\n",
       "        text-align: right;\n",
       "    }\n",
       "</style>\n",
       "<table border=\"1\" class=\"dataframe\">\n",
       "  <thead>\n",
       "    <tr style=\"text-align: right;\">\n",
       "      <th></th>\n",
       "      <th>Name</th>\n",
       "      <th>StyleID</th>\n",
       "      <th>Size</th>\n",
       "      <th>OG</th>\n",
       "      <th>FG</th>\n",
       "      <th>ABV</th>\n",
       "      <th>IBU</th>\n",
       "      <th>Color</th>\n",
       "      <th>BoilSize</th>\n",
       "      <th>BoilTime</th>\n",
       "      <th>BoilGravity</th>\n",
       "      <th>Efficiency</th>\n",
       "      <th>MashThickness</th>\n",
       "      <th>SugarScale</th>\n",
       "      <th>PitchRate</th>\n",
       "      <th>PrimaryTemp</th>\n",
       "      <th>PrimingMethod</th>\n",
       "      <th>PrimingAmount</th>\n",
       "      <th>UserId</th>\n",
       "    </tr>\n",
       "  </thead>\n",
       "  <tbody>\n",
       "    <tr>\n",
       "      <td>0</td>\n",
       "      <td>The Devil is in the Details (Duvel Clone)...</td>\n",
       "      <td>23</td>\n",
       "      <td>41.64</td>\n",
       "      <td>1.069</td>\n",
       "      <td>1.005</td>\n",
       "      <td>8.40</td>\n",
       "      <td>40.71</td>\n",
       "      <td>0.0</td>\n",
       "      <td>49.21</td>\n",
       "      <td>90</td>\n",
       "      <td>1.058</td>\n",
       "      <td>80.0</td>\n",
       "      <td>1.50</td>\n",
       "      <td>Specific Gravity</td>\n",
       "      <td>1.00</td>\n",
       "      <td>17.78</td>\n",
       "      <td>Force Carb</td>\n",
       "      <td>30 PSI</td>\n",
       "      <td>15241.0</td>\n",
       "    </tr>\n",
       "    <tr>\n",
       "      <td>1</td>\n",
       "      <td>Fat Head's Headhunter IPA Clone</td>\n",
       "      <td>7</td>\n",
       "      <td>41.64</td>\n",
       "      <td>1.072</td>\n",
       "      <td>1.014</td>\n",
       "      <td>7.52</td>\n",
       "      <td>87.48</td>\n",
       "      <td>0.0</td>\n",
       "      <td>49.21</td>\n",
       "      <td>90</td>\n",
       "      <td>1.061</td>\n",
       "      <td>65.0</td>\n",
       "      <td>1.30</td>\n",
       "      <td>Specific Gravity</td>\n",
       "      <td>0.75</td>\n",
       "      <td>20.00</td>\n",
       "      <td>Force Carb</td>\n",
       "      <td>12 psi</td>\n",
       "      <td>15241.0</td>\n",
       "    </tr>\n",
       "    <tr>\n",
       "      <td>2</td>\n",
       "      <td>Bakke Brygg JuleAle 2016 20 l</td>\n",
       "      <td>6</td>\n",
       "      <td>20.00</td>\n",
       "      <td>1.064</td>\n",
       "      <td>1.014</td>\n",
       "      <td>6.54</td>\n",
       "      <td>42.06</td>\n",
       "      <td>1.0</td>\n",
       "      <td>25.00</td>\n",
       "      <td>90</td>\n",
       "      <td>1.051</td>\n",
       "      <td>69.0</td>\n",
       "      <td>3.00</td>\n",
       "      <td>Specific Gravity</td>\n",
       "      <td>1.00</td>\n",
       "      <td>17.00</td>\n",
       "      <td>Sukkerlake</td>\n",
       "      <td>5 5 g sukker/liter</td>\n",
       "      <td>18325.0</td>\n",
       "    </tr>\n",
       "    <tr>\n",
       "      <td>3</td>\n",
       "      <td>Golden Session</td>\n",
       "      <td>35</td>\n",
       "      <td>20.82</td>\n",
       "      <td>1.042</td>\n",
       "      <td>1.012</td>\n",
       "      <td>3.82</td>\n",
       "      <td>28.39</td>\n",
       "      <td>0.0</td>\n",
       "      <td>28.39</td>\n",
       "      <td>60</td>\n",
       "      <td>1.030</td>\n",
       "      <td>70.0</td>\n",
       "      <td>1.69</td>\n",
       "      <td>Specific Gravity</td>\n",
       "      <td>0.50</td>\n",
       "      <td>21.11</td>\n",
       "      <td>Dextrose</td>\n",
       "      <td>5oz</td>\n",
       "      <td>26090.0</td>\n",
       "    </tr>\n",
       "    <tr>\n",
       "      <td>4</td>\n",
       "      <td>Chocolate Cherry Bock</td>\n",
       "      <td>163</td>\n",
       "      <td>17.03</td>\n",
       "      <td>1.068</td>\n",
       "      <td>1.018</td>\n",
       "      <td>6.52</td>\n",
       "      <td>41.68</td>\n",
       "      <td>1.0</td>\n",
       "      <td>24.61</td>\n",
       "      <td>90</td>\n",
       "      <td>1.047</td>\n",
       "      <td>70.0</td>\n",
       "      <td>1.25</td>\n",
       "      <td>Specific Gravity</td>\n",
       "      <td>1.50</td>\n",
       "      <td>10.00</td>\n",
       "      <td>CO2</td>\n",
       "      <td>12lbs</td>\n",
       "      <td>396.0</td>\n",
       "    </tr>\n",
       "  </tbody>\n",
       "</table>\n",
       "</div>"
      ],
      "text/plain": [
       "                                           Name  StyleID   Size     OG     FG  \\\n",
       "0  The Devil is in the Details (Duvel Clone)...       23  41.64  1.069  1.005   \n",
       "1               Fat Head's Headhunter IPA Clone        7  41.64  1.072  1.014   \n",
       "2                 Bakke Brygg JuleAle 2016 20 l        6  20.00  1.064  1.014   \n",
       "3                                Golden Session       35  20.82  1.042  1.012   \n",
       "4                         Chocolate Cherry Bock      163  17.03  1.068  1.018   \n",
       "\n",
       "    ABV    IBU  Color  BoilSize  BoilTime  BoilGravity  Efficiency  \\\n",
       "0  8.40  40.71    0.0     49.21        90        1.058        80.0   \n",
       "1  7.52  87.48    0.0     49.21        90        1.061        65.0   \n",
       "2  6.54  42.06    1.0     25.00        90        1.051        69.0   \n",
       "3  3.82  28.39    0.0     28.39        60        1.030        70.0   \n",
       "4  6.52  41.68    1.0     24.61        90        1.047        70.0   \n",
       "\n",
       "   MashThickness        SugarScale  PitchRate  PrimaryTemp PrimingMethod  \\\n",
       "0           1.50  Specific Gravity       1.00        17.78    Force Carb   \n",
       "1           1.30  Specific Gravity       0.75        20.00    Force Carb   \n",
       "2           3.00  Specific Gravity       1.00        17.00    Sukkerlake   \n",
       "3           1.69  Specific Gravity       0.50        21.11      Dextrose   \n",
       "4           1.25  Specific Gravity       1.50        10.00           CO2   \n",
       "\n",
       "        PrimingAmount   UserId  \n",
       "0              30 PSI  15241.0  \n",
       "1              12 psi  15241.0  \n",
       "2  5 5 g sukker/liter  18325.0  \n",
       "3                 5oz  26090.0  \n",
       "4               12lbs    396.0  "
      ]
     },
     "execution_count": 11,
     "metadata": {},
     "output_type": "execute_result"
    }
   ],
   "source": [
    "prepared_data.head()"
   ]
  },
  {
   "cell_type": "markdown",
   "metadata": {},
   "source": [
    "# Визуальный анализ данных\n"
   ]
  },
  {
   "cell_type": "code",
   "execution_count": 14,
   "metadata": {},
   "outputs": [],
   "source": [
    "%matplotlib inline\n",
    "import seaborn as sns"
   ]
  },
  {
   "cell_type": "markdown",
   "metadata": {},
   "source": [
    "Строим матрицу корреляций признаков"
   ]
  },
  {
   "cell_type": "code",
   "execution_count": 15,
   "metadata": {},
   "outputs": [
    {
     "data": {
      "image/png": "[encoded data removed]",
      "text/plain": [
       "<Figure size 432x288 with 2 Axes>"
      ]
     },
     "metadata": {
      "needs_background": "light"
     },
     "output_type": "display_data"
    }
   ],
   "source": [
    "corr_matrix = prepared_data.drop(['SugarScale', 'PrimingMethod', 'PrimingAmount', 'Color'], axis=1).corr()\n",
    "sns.heatmap(corr_matrix);"
   ]
  },
  {
   "cell_type": "markdown",
   "metadata": {},
   "source": [
    "Гистограмма показывает, что большая часть параметров слабо коррелирует друг с другом"
   ]
  },
  {
   "cell_type": "markdown",
   "metadata": {},
   "source": [
    "Строим гистограммы распределения значений признаков"
   ]
  },
  {
   "cell_type": "code",
   "execution_count": 16,
   "metadata": {},
   "outputs": [
    {
     "data": {
      "image/png": "[encoded data removed]",
      "text/plain": [
       "<Figure size 1440x864 with 16 Axes>"
      ]
     },
     "metadata": {
      "needs_background": "light"
     },
     "output_type": "display_data"
    }
   ],
   "source": [
    "features = list(set(prepared_data.columns) - set(['StyleID', 'Name', 'SugarScale',  'PrimingMethod',\n",
    "                                      'PrimingAmount', 'Color']))\n",
    "\n",
    "prepared_data[features].hist(figsize=(20,12));"
   ]
  },
  {
   "cell_type": "markdown",
   "metadata": {},
   "source": [
    "### Строим t-SNE для визуального анализа распеделения индивидов пива по признакову пространству"
   ]
  },
  {
   "cell_type": "code",
   "execution_count": 17,
   "metadata": {},
   "outputs": [],
   "source": [
    "from sklearn.manifold import TSNE\n",
    "from sklearn.preprocessing import StandardScaler\n",
    "import matplotlib.pyplot as plt"
   ]
  },
  {
   "cell_type": "code",
   "execution_count": 18,
   "metadata": {},
   "outputs": [],
   "source": [
    "tsne_data = prepared_data.drop(['Color', 'Name'], axis=1)\n",
    "tsne_data['SugarScale'] = pd.factorize(tsne_data['SugarScale'])[0]\n",
    "tsne_data['PrimingMethod'] = pd.factorize(tsne_data['PrimingMethod'])[0]\n",
    "tsne_data['PrimingAmount'] = pd.factorize(tsne_data['PrimingAmount'])[0]\n",
    "scaler = StandardScaler()\n",
    "tsne_scaled = scaler.fit_transform(tsne_data)"
   ]
  },
  {
   "cell_type": "code",
   "execution_count": 19,
   "metadata": {},
   "outputs": [
    {
     "name": "stdout",
     "output_type": "stream",
     "text": [
      "Wall time: 6.07 s\n"
     ]
    }
   ],
   "source": [
    "%%time\n",
    "tsne = TSNE(random_state=17)\n",
    "tsne_representation = tsne.fit_transform(tsne_scaled)"
   ]
  },
  {
   "cell_type": "code",
   "execution_count": 20,
   "metadata": {},
   "outputs": [
    {
     "data": {
      "image/png": "[encoded data removed]",
      "text/plain": [
       "<Figure size 432x288 with 1 Axes>"
      ]
     },
     "metadata": {
      "needs_background": "light"
     },
     "output_type": "display_data"
    }
   ],
   "source": [
    "plt.scatter(tsne_representation[:, 0], tsne_representation[:, 1], \n",
    "            c=prepared_data['Color'].map({0: 'blue', 1: 'orange'}));"
   ]
  },
  {
   "cell_type": "markdown",
   "metadata": {},
   "source": [
    "Исходя из результатов, полученных в ходе визуального анлализа, нельзя единообразно выделить какие-либо признаки, влияющие на цвет полученного пива"
   ]
  },
  {
   "cell_type": "markdown",
   "metadata": {},
   "source": [
    "# Проведение опыта классификации"
   ]
  },
  {
   "cell_type": "code",
   "execution_count": 21,
   "metadata": {},
   "outputs": [
    {
     "data": {
      "text/html": [
       "<div>\n",
       "<style scoped>\n",
       "    .dataframe tbody tr th:only-of-type {\n",
       "        vertical-align: middle;\n",
       "    }\n",
       "\n",
       "    .dataframe tbody tr th {\n",
       "        vertical-align: top;\n",
       "    }\n",
       "\n",
       "    .dataframe thead th {\n",
       "        text-align: right;\n",
       "    }\n",
       "</style>\n",
       "<table border=\"1\" class=\"dataframe\">\n",
       "  <thead>\n",
       "    <tr style=\"text-align: right;\">\n",
       "      <th></th>\n",
       "      <th>Name</th>\n",
       "      <th>StyleID</th>\n",
       "      <th>Size</th>\n",
       "      <th>OG</th>\n",
       "      <th>FG</th>\n",
       "      <th>ABV</th>\n",
       "      <th>IBU</th>\n",
       "      <th>Color</th>\n",
       "      <th>BoilSize</th>\n",
       "      <th>BoilTime</th>\n",
       "      <th>BoilGravity</th>\n",
       "      <th>Efficiency</th>\n",
       "      <th>MashThickness</th>\n",
       "      <th>SugarScale</th>\n",
       "      <th>PitchRate</th>\n",
       "      <th>PrimaryTemp</th>\n",
       "      <th>PrimingMethod</th>\n",
       "      <th>PrimingAmount</th>\n",
       "      <th>UserId</th>\n",
       "    </tr>\n",
       "  </thead>\n",
       "  <tbody>\n",
       "    <tr>\n",
       "      <td>0</td>\n",
       "      <td>The Devil is in the Details (Duvel Clone)...</td>\n",
       "      <td>23</td>\n",
       "      <td>41.64</td>\n",
       "      <td>1.069</td>\n",
       "      <td>1.005</td>\n",
       "      <td>8.40</td>\n",
       "      <td>40.71</td>\n",
       "      <td>0.0</td>\n",
       "      <td>49.21</td>\n",
       "      <td>90</td>\n",
       "      <td>1.058</td>\n",
       "      <td>80.0</td>\n",
       "      <td>1.50</td>\n",
       "      <td>Specific Gravity</td>\n",
       "      <td>1.00</td>\n",
       "      <td>17.78</td>\n",
       "      <td>Force Carb</td>\n",
       "      <td>30 PSI</td>\n",
       "      <td>15241.0</td>\n",
       "    </tr>\n",
       "    <tr>\n",
       "      <td>1</td>\n",
       "      <td>Fat Head's Headhunter IPA Clone</td>\n",
       "      <td>7</td>\n",
       "      <td>41.64</td>\n",
       "      <td>1.072</td>\n",
       "      <td>1.014</td>\n",
       "      <td>7.52</td>\n",
       "      <td>87.48</td>\n",
       "      <td>0.0</td>\n",
       "      <td>49.21</td>\n",
       "      <td>90</td>\n",
       "      <td>1.061</td>\n",
       "      <td>65.0</td>\n",
       "      <td>1.30</td>\n",
       "      <td>Specific Gravity</td>\n",
       "      <td>0.75</td>\n",
       "      <td>20.00</td>\n",
       "      <td>Force Carb</td>\n",
       "      <td>12 psi</td>\n",
       "      <td>15241.0</td>\n",
       "    </tr>\n",
       "    <tr>\n",
       "      <td>2</td>\n",
       "      <td>Bakke Brygg JuleAle 2016 20 l</td>\n",
       "      <td>6</td>\n",
       "      <td>20.00</td>\n",
       "      <td>1.064</td>\n",
       "      <td>1.014</td>\n",
       "      <td>6.54</td>\n",
       "      <td>42.06</td>\n",
       "      <td>1.0</td>\n",
       "      <td>25.00</td>\n",
       "      <td>90</td>\n",
       "      <td>1.051</td>\n",
       "      <td>69.0</td>\n",
       "      <td>3.00</td>\n",
       "      <td>Specific Gravity</td>\n",
       "      <td>1.00</td>\n",
       "      <td>17.00</td>\n",
       "      <td>Sukkerlake</td>\n",
       "      <td>5 5 g sukker/liter</td>\n",
       "      <td>18325.0</td>\n",
       "    </tr>\n",
       "    <tr>\n",
       "      <td>3</td>\n",
       "      <td>Golden Session</td>\n",
       "      <td>35</td>\n",
       "      <td>20.82</td>\n",
       "      <td>1.042</td>\n",
       "      <td>1.012</td>\n",
       "      <td>3.82</td>\n",
       "      <td>28.39</td>\n",
       "      <td>0.0</td>\n",
       "      <td>28.39</td>\n",
       "      <td>60</td>\n",
       "      <td>1.030</td>\n",
       "      <td>70.0</td>\n",
       "      <td>1.69</td>\n",
       "      <td>Specific Gravity</td>\n",
       "      <td>0.50</td>\n",
       "      <td>21.11</td>\n",
       "      <td>Dextrose</td>\n",
       "      <td>5oz</td>\n",
       "      <td>26090.0</td>\n",
       "    </tr>\n",
       "    <tr>\n",
       "      <td>4</td>\n",
       "      <td>Chocolate Cherry Bock</td>\n",
       "      <td>163</td>\n",
       "      <td>17.03</td>\n",
       "      <td>1.068</td>\n",
       "      <td>1.018</td>\n",
       "      <td>6.52</td>\n",
       "      <td>41.68</td>\n",
       "      <td>1.0</td>\n",
       "      <td>24.61</td>\n",
       "      <td>90</td>\n",
       "      <td>1.047</td>\n",
       "      <td>70.0</td>\n",
       "      <td>1.25</td>\n",
       "      <td>Specific Gravity</td>\n",
       "      <td>1.50</td>\n",
       "      <td>10.00</td>\n",
       "      <td>CO2</td>\n",
       "      <td>12lbs</td>\n",
       "      <td>396.0</td>\n",
       "    </tr>\n",
       "  </tbody>\n",
       "</table>\n",
       "</div>"
      ],
      "text/plain": [
       "                                           Name  StyleID   Size     OG     FG  \\\n",
       "0  The Devil is in the Details (Duvel Clone)...       23  41.64  1.069  1.005   \n",
       "1               Fat Head's Headhunter IPA Clone        7  41.64  1.072  1.014   \n",
       "2                 Bakke Brygg JuleAle 2016 20 l        6  20.00  1.064  1.014   \n",
       "3                                Golden Session       35  20.82  1.042  1.012   \n",
       "4                         Chocolate Cherry Bock      163  17.03  1.068  1.018   \n",
       "\n",
       "    ABV    IBU  Color  BoilSize  BoilTime  BoilGravity  Efficiency  \\\n",
       "0  8.40  40.71    0.0     49.21        90        1.058        80.0   \n",
       "1  7.52  87.48    0.0     49.21        90        1.061        65.0   \n",
       "2  6.54  42.06    1.0     25.00        90        1.051        69.0   \n",
       "3  3.82  28.39    0.0     28.39        60        1.030        70.0   \n",
       "4  6.52  41.68    1.0     24.61        90        1.047        70.0   \n",
       "\n",
       "   MashThickness        SugarScale  PitchRate  PrimaryTemp PrimingMethod  \\\n",
       "0           1.50  Specific Gravity       1.00        17.78    Force Carb   \n",
       "1           1.30  Specific Gravity       0.75        20.00    Force Carb   \n",
       "2           3.00  Specific Gravity       1.00        17.00    Sukkerlake   \n",
       "3           1.69  Specific Gravity       0.50        21.11      Dextrose   \n",
       "4           1.25  Specific Gravity       1.50        10.00           CO2   \n",
       "\n",
       "        PrimingAmount   UserId  \n",
       "0              30 PSI  15241.0  \n",
       "1              12 psi  15241.0  \n",
       "2  5 5 g sukker/liter  18325.0  \n",
       "3                 5oz  26090.0  \n",
       "4               12lbs    396.0  "
      ]
     },
     "execution_count": 21,
     "metadata": {},
     "output_type": "execute_result"
    }
   ],
   "source": [
    "prepared_data.head()"
   ]
  },
  {
   "cell_type": "markdown",
   "metadata": {},
   "source": [
    "Подготовка данных - преобразование категориальных признаков"
   ]
  },
  {
   "cell_type": "code",
   "execution_count": 22,
   "metadata": {},
   "outputs": [],
   "source": [
    "name_dict = prepared_data['Name']\n",
    "prepared_data['SugarScale'] = pd.factorize(prepared_data['SugarScale'])[0]\n",
    "prepared_data['PrimingMethod'] = pd.factorize(prepared_data['PrimingMethod'])[0]\n",
    "prepared_data['PrimingAmount'] = pd.factorize(prepared_data['PrimingAmount'])[0]\n",
    "prepared_data['Color'] = prepared_data['Color'].astype('int')\n",
    "y = prepared_data['Color']\n",
    "prepared_data.drop(['Name' , 'Color'], axis = 1, inplace = True)"
   ]
  },
  {
   "cell_type": "code",
   "execution_count": 23,
   "metadata": {},
   "outputs": [
    {
     "data": {
      "text/html": [
       "<div>\n",
       "<style scoped>\n",
       "    .dataframe tbody tr th:only-of-type {\n",
       "        vertical-align: middle;\n",
       "    }\n",
       "\n",
       "    .dataframe tbody tr th {\n",
       "        vertical-align: top;\n",
       "    }\n",
       "\n",
       "    .dataframe thead th {\n",
       "        text-align: right;\n",
       "    }\n",
       "</style>\n",
       "<table border=\"1\" class=\"dataframe\">\n",
       "  <thead>\n",
       "    <tr style=\"text-align: right;\">\n",
       "      <th></th>\n",
       "      <th>StyleID</th>\n",
       "      <th>Size</th>\n",
       "      <th>OG</th>\n",
       "      <th>FG</th>\n",
       "      <th>ABV</th>\n",
       "      <th>IBU</th>\n",
       "      <th>BoilSize</th>\n",
       "      <th>BoilTime</th>\n",
       "      <th>BoilGravity</th>\n",
       "      <th>Efficiency</th>\n",
       "      <th>MashThickness</th>\n",
       "      <th>SugarScale</th>\n",
       "      <th>PitchRate</th>\n",
       "      <th>PrimaryTemp</th>\n",
       "      <th>PrimingMethod</th>\n",
       "      <th>PrimingAmount</th>\n",
       "      <th>UserId</th>\n",
       "    </tr>\n",
       "  </thead>\n",
       "  <tbody>\n",
       "    <tr>\n",
       "      <td>0</td>\n",
       "      <td>23</td>\n",
       "      <td>41.64</td>\n",
       "      <td>1.069</td>\n",
       "      <td>1.005</td>\n",
       "      <td>8.40</td>\n",
       "      <td>40.71</td>\n",
       "      <td>49.21</td>\n",
       "      <td>90</td>\n",
       "      <td>1.058</td>\n",
       "      <td>80.0</td>\n",
       "      <td>1.50</td>\n",
       "      <td>0</td>\n",
       "      <td>1.00</td>\n",
       "      <td>17.78</td>\n",
       "      <td>0</td>\n",
       "      <td>0</td>\n",
       "      <td>15241.0</td>\n",
       "    </tr>\n",
       "    <tr>\n",
       "      <td>1</td>\n",
       "      <td>7</td>\n",
       "      <td>41.64</td>\n",
       "      <td>1.072</td>\n",
       "      <td>1.014</td>\n",
       "      <td>7.52</td>\n",
       "      <td>87.48</td>\n",
       "      <td>49.21</td>\n",
       "      <td>90</td>\n",
       "      <td>1.061</td>\n",
       "      <td>65.0</td>\n",
       "      <td>1.30</td>\n",
       "      <td>0</td>\n",
       "      <td>0.75</td>\n",
       "      <td>20.00</td>\n",
       "      <td>0</td>\n",
       "      <td>1</td>\n",
       "      <td>15241.0</td>\n",
       "    </tr>\n",
       "    <tr>\n",
       "      <td>2</td>\n",
       "      <td>6</td>\n",
       "      <td>20.00</td>\n",
       "      <td>1.064</td>\n",
       "      <td>1.014</td>\n",
       "      <td>6.54</td>\n",
       "      <td>42.06</td>\n",
       "      <td>25.00</td>\n",
       "      <td>90</td>\n",
       "      <td>1.051</td>\n",
       "      <td>69.0</td>\n",
       "      <td>3.00</td>\n",
       "      <td>0</td>\n",
       "      <td>1.00</td>\n",
       "      <td>17.00</td>\n",
       "      <td>1</td>\n",
       "      <td>2</td>\n",
       "      <td>18325.0</td>\n",
       "    </tr>\n",
       "    <tr>\n",
       "      <td>3</td>\n",
       "      <td>35</td>\n",
       "      <td>20.82</td>\n",
       "      <td>1.042</td>\n",
       "      <td>1.012</td>\n",
       "      <td>3.82</td>\n",
       "      <td>28.39</td>\n",
       "      <td>28.39</td>\n",
       "      <td>60</td>\n",
       "      <td>1.030</td>\n",
       "      <td>70.0</td>\n",
       "      <td>1.69</td>\n",
       "      <td>0</td>\n",
       "      <td>0.50</td>\n",
       "      <td>21.11</td>\n",
       "      <td>2</td>\n",
       "      <td>3</td>\n",
       "      <td>26090.0</td>\n",
       "    </tr>\n",
       "    <tr>\n",
       "      <td>4</td>\n",
       "      <td>163</td>\n",
       "      <td>17.03</td>\n",
       "      <td>1.068</td>\n",
       "      <td>1.018</td>\n",
       "      <td>6.52</td>\n",
       "      <td>41.68</td>\n",
       "      <td>24.61</td>\n",
       "      <td>90</td>\n",
       "      <td>1.047</td>\n",
       "      <td>70.0</td>\n",
       "      <td>1.25</td>\n",
       "      <td>0</td>\n",
       "      <td>1.50</td>\n",
       "      <td>10.00</td>\n",
       "      <td>3</td>\n",
       "      <td>4</td>\n",
       "      <td>396.0</td>\n",
       "    </tr>\n",
       "  </tbody>\n",
       "</table>\n",
       "</div>"
      ],
      "text/plain": [
       "   StyleID   Size     OG     FG   ABV    IBU  BoilSize  BoilTime  BoilGravity  \\\n",
       "0       23  41.64  1.069  1.005  8.40  40.71     49.21        90        1.058   \n",
       "1        7  41.64  1.072  1.014  7.52  87.48     49.21        90        1.061   \n",
       "2        6  20.00  1.064  1.014  6.54  42.06     25.00        90        1.051   \n",
       "3       35  20.82  1.042  1.012  3.82  28.39     28.39        60        1.030   \n",
       "4      163  17.03  1.068  1.018  6.52  41.68     24.61        90        1.047   \n",
       "\n",
       "   Efficiency  MashThickness  SugarScale  PitchRate  PrimaryTemp  \\\n",
       "0        80.0           1.50           0       1.00        17.78   \n",
       "1        65.0           1.30           0       0.75        20.00   \n",
       "2        69.0           3.00           0       1.00        17.00   \n",
       "3        70.0           1.69           0       0.50        21.11   \n",
       "4        70.0           1.25           0       1.50        10.00   \n",
       "\n",
       "   PrimingMethod  PrimingAmount   UserId  \n",
       "0              0              0  15241.0  \n",
       "1              0              1  15241.0  \n",
       "2              1              2  18325.0  \n",
       "3              2              3  26090.0  \n",
       "4              3              4    396.0  "
      ]
     },
     "execution_count": 23,
     "metadata": {},
     "output_type": "execute_result"
    }
   ],
   "source": [
    "prepared_data.head()"
   ]
  },
  {
   "cell_type": "code",
   "execution_count": 24,
   "metadata": {},
   "outputs": [],
   "source": [
    "from sklearn.model_selection import train_test_split, StratifiedKFold\n",
    "from sklearn.metrics import accuracy_score\n",
    "from sklearn.neighbors import KNeighborsClassifier"
   ]
  },
  {
   "cell_type": "markdown",
   "metadata": {},
   "source": [
    "## Разбиение данных на обучающую и тестовую выборки"
   ]
  },
  {
   "cell_type": "code",
   "execution_count": 25,
   "metadata": {},
   "outputs": [],
   "source": [
    "X_train, X_holdout, y_train, y_holdout = train_test_split(prepared_data.values, y, test_size=0.3,\n",
    "random_state=17)"
   ]
  },
  {
   "cell_type": "markdown",
   "metadata": {},
   "source": [
    "## Метод к-ближайших соседей"
   ]
  },
  {
   "cell_type": "code",
   "execution_count": 26,
   "metadata": {},
   "outputs": [],
   "source": [
    "knn = KNeighborsClassifier(n_neighbors=10)"
   ]
  },
  {
   "cell_type": "code",
   "execution_count": 27,
   "metadata": {},
   "outputs": [
    {
     "name": "stdout",
     "output_type": "stream",
     "text": [
      "Wall time: 999 µs\n"
     ]
    },
    {
     "data": {
      "text/plain": [
       "KNeighborsClassifier(algorithm='auto', leaf_size=30, metric='minkowski',\n",
       "                     metric_params=None, n_jobs=None, n_neighbors=10, p=2,\n",
       "                     weights='uniform')"
      ]
     },
     "execution_count": 27,
     "metadata": {},
     "output_type": "execute_result"
    }
   ],
   "source": [
    "%%time\n",
    "knn.fit(X_train, y_train)"
   ]
  },
  {
   "cell_type": "code",
   "execution_count": 28,
   "metadata": {},
   "outputs": [
    {
     "data": {
      "text/plain": [
       "0.7017543859649122"
      ]
     },
     "execution_count": 28,
     "metadata": {},
     "output_type": "execute_result"
    }
   ],
   "source": [
    "knn_pred = knn.predict(X_holdout)\n",
    "accuracy_score(y_holdout, knn_pred)"
   ]
  },
  {
   "cell_type": "markdown",
   "metadata": {},
   "source": [
    "Долю правильных ответов в опыте классификации - 0.7017543859649122"
   ]
  },
  {
   "cell_type": "markdown",
   "metadata": {},
   "source": [
    "### Метод к-ближайших соседей на кросс-валидации"
   ]
  },
  {
   "cell_type": "code",
   "execution_count": 30,
   "metadata": {},
   "outputs": [],
   "source": [
    "from sklearn.model_selection import GridSearchCV, cross_val_score\n",
    "import numpy as np\n",
    "from sklearn.pipeline import Pipeline\n",
    "from sklearn.preprocessing import StandardScaler"
   ]
  },
  {
   "cell_type": "code",
   "execution_count": 31,
   "metadata": {},
   "outputs": [],
   "source": [
    "kf = StratifiedKFold(n_splits=5, shuffle=True, random_state=13)"
   ]
  },
  {
   "cell_type": "code",
   "execution_count": 32,
   "metadata": {},
   "outputs": [],
   "source": [
    "knn_pipe = Pipeline([('knn', KNeighborsClassifier(n_jobs=-1))])"
   ]
  },
  {
   "cell_type": "code",
   "execution_count": 33,
   "metadata": {},
   "outputs": [],
   "source": [
    "knn_params = {'knn__n_neighbors': range(1, 50)}"
   ]
  },
  {
   "cell_type": "code",
   "execution_count": 34,
   "metadata": {},
   "outputs": [],
   "source": [
    "knn_grid = GridSearchCV(knn_pipe, knn_params, cv=kf, n_jobs=-1, verbose=True)"
   ]
  },
  {
   "cell_type": "code",
   "execution_count": 35,
   "metadata": {},
   "outputs": [
    {
     "name": "stdout",
     "output_type": "stream",
     "text": [
      "Fitting 5 folds for each of 49 candidates, totalling 245 fits\n"
     ]
    },
    {
     "name": "stderr",
     "output_type": "stream",
     "text": [
      "[Parallel(n_jobs=-1)]: Using backend LokyBackend with 4 concurrent workers.\n",
      "[Parallel(n_jobs=-1)]: Done  42 tasks      | elapsed:    5.4s\n",
      "[Parallel(n_jobs=-1)]: Done 192 tasks      | elapsed:   10.0s\n"
     ]
    },
    {
     "name": "stdout",
     "output_type": "stream",
     "text": [
      "Wall time: 11.8 s\n"
     ]
    },
    {
     "name": "stderr",
     "output_type": "stream",
     "text": [
      "[Parallel(n_jobs=-1)]: Done 245 out of 245 | elapsed:   11.7s finished\n"
     ]
    },
    {
     "data": {
      "text/plain": [
       "GridSearchCV(cv=StratifiedKFold(n_splits=5, random_state=13, shuffle=True),\n",
       "             error_score='raise-deprecating',\n",
       "             estimator=Pipeline(memory=None,\n",
       "                                steps=[('knn',\n",
       "                                        KNeighborsClassifier(algorithm='auto',\n",
       "                                                             leaf_size=30,\n",
       "                                                             metric='minkowski',\n",
       "                                                             metric_params=None,\n",
       "                                                             n_jobs=-1,\n",
       "                                                             n_neighbors=5, p=2,\n",
       "                                                             weights='uniform'))],\n",
       "                                verbose=False),\n",
       "             iid='warn', n_jobs=-1,\n",
       "             param_grid={'knn__n_neighbors': range(1, 50)},\n",
       "             pre_dispatch='2*n_jobs', refit=True, return_train_score=False,\n",
       "             scoring=None, verbose=True)"
      ]
     },
     "execution_count": 35,
     "metadata": {},
     "output_type": "execute_result"
    }
   ],
   "source": [
    "%%time\n",
    "knn_grid.fit(X_train, y_train)"
   ]
  },
  {
   "cell_type": "code",
   "execution_count": 36,
   "metadata": {},
   "outputs": [
    {
     "data": {
      "text/plain": [
       "{'knn__n_neighbors': 25}"
      ]
     },
     "execution_count": 36,
     "metadata": {},
     "output_type": "execute_result"
    }
   ],
   "source": [
    "knn_grid.best_params_"
   ]
  },
  {
   "cell_type": "code",
   "execution_count": 37,
   "metadata": {},
   "outputs": [
    {
     "data": {
      "text/plain": [
       "0.7105263157894737"
      ]
     },
     "execution_count": 37,
     "metadata": {},
     "output_type": "execute_result"
    }
   ],
   "source": [
    "accuracy_score(y_holdout, knn_grid.predict(X_holdout))"
   ]
  },
  {
   "cell_type": "code",
   "execution_count": 38,
   "metadata": {},
   "outputs": [
    {
     "data": {
      "image/png": "[encoded data removed]",
      "text/plain": [
       "<Figure size 432x288 with 1 Axes>"
      ]
     },
     "metadata": {
      "needs_background": "light"
     },
     "output_type": "display_data"
    }
   ],
   "source": [
    "cv_scores, holdout_scores = [], []\n",
    "n_neighb = [x for x in range(1, 50, 1)]\n",
    "\n",
    "for k in n_neighb:\n",
    "    knn = KNeighborsClassifier(n_neighbors=k)\n",
    "    cv_scores.append(np.mean(cross_val_score(knn, X_train, y_train, cv=kf)))\n",
    "    knn.fit(X_train, y_train)\n",
    "    holdout_scores.append(accuracy_score(y_holdout, knn.predict(X_holdout)))\n",
    "\n",
    "plt.plot(n_neighb, cv_scores, label='CV')\n",
    "plt.plot(n_neighb, holdout_scores, label='holdout')\n",
    "plt.title('KNN dep of accuracy from Number of Neighbours ')\n",
    "plt.legend();"
   ]
  },
  {
   "cell_type": "markdown",
   "metadata": {},
   "source": [
    "### Проведена кросс-валидация: оптимальное количество соседей - 25, доля правильных ответов - 0.7105263157894737"
   ]
  },
  {
   "cell_type": "markdown",
   "metadata": {},
   "source": [
    "## Логистическая регрессия на кросс-валидации"
   ]
  },
  {
   "cell_type": "code",
   "execution_count": 39,
   "metadata": {},
   "outputs": [],
   "source": [
    "from sklearn.linear_model import LogisticRegression"
   ]
  },
  {
   "cell_type": "code",
   "execution_count": 179,
   "metadata": {},
   "outputs": [
    {
     "data": {
      "text/plain": [
       "LogisticRegression(C=1.0, class_weight=None, dual=False, fit_intercept=True,\n",
       "                   intercept_scaling=1, l1_ratio=None, max_iter=100,\n",
       "                   multi_class='warn', n_jobs=None, penalty='l2',\n",
       "                   random_state=None, solver='warn', tol=0.0001, verbose=0,\n",
       "                   warm_start=False)"
      ]
     },
     "execution_count": 179,
     "metadata": {},
     "output_type": "execute_result"
    }
   ],
   "source": [
    "logreg=LogisticRegression()\n",
    "logreg.fit(X_train, y_train)"
   ]
  },
  {
   "cell_type": "code",
   "execution_count": 180,
   "metadata": {},
   "outputs": [
    {
     "data": {
      "text/plain": [
       "0.7192982456140351"
      ]
     },
     "execution_count": 180,
     "metadata": {},
     "output_type": "execute_result"
    }
   ],
   "source": [
    "accuracy_score(y_holdout, logreg.predict(X_holdout))"
   ]
  },
  {
   "cell_type": "markdown",
   "metadata": {},
   "source": [
    "Значение доли правильных ответов логистической регрессии в опыте без кросс-валидации - 0.7192982456140351"
   ]
  },
  {
   "cell_type": "code",
   "execution_count": 168,
   "metadata": {},
   "outputs": [],
   "source": [
    "Cs = [x/10 for x in range(1, 100, 1)]\n",
    "penalty = ['l1', 'l2']\n",
    "hyperparameters = dict(C=Cs, penalty=penalty)\n",
    "logreg=LogisticRegression()\n",
    "logreg_cv=GridSearchCV(logreg,hyperparameters,cv=kf)"
   ]
  },
  {
   "cell_type": "code",
   "execution_count": 169,
   "metadata": {
    "scrolled": false
   },
   "outputs": [
    {
     "name": "stdout",
     "output_type": "stream",
     "text": [
      "Wall time: 5.95 s\n"
     ]
    },
    {
     "data": {
      "text/plain": [
       "GridSearchCV(cv=StratifiedKFold(n_splits=5, random_state=13, shuffle=True),\n",
       "             error_score='raise-deprecating',\n",
       "             estimator=LogisticRegression(C=1.0, class_weight=None, dual=False,\n",
       "                                          fit_intercept=True,\n",
       "                                          intercept_scaling=1, l1_ratio=None,\n",
       "                                          max_iter=100, multi_class='warn',\n",
       "                                          n_jobs=None, penalty='l2',\n",
       "                                          random_state=None, solver='warn',\n",
       "                                          tol=0.0001, verbose=0,\n",
       "                                          warm_start=False),\n",
       "             iid='warn', n_jobs=None,\n",
       "             param_grid={'C': [0.1, 0.2, 0.3, 0.4, 0.5, 0.6, 0.7, 0.8, 0.9, 1.0,\n",
       "                               1.1, 1.2, 1.3, 1.4, 1.5, 1.6, 1.7, 1.8, 1.9, 2.0,\n",
       "                               2.1, 2.2, 2.3, 2.4, 2.5, 2.6, 2.7, 2.8, 2.9, 3.0, ...],\n",
       "                         'penalty': ['l1', 'l2']},\n",
       "             pre_dispatch='2*n_jobs', refit=True, return_train_score=False,\n",
       "             scoring=None, verbose=0)"
      ]
     },
     "execution_count": 169,
     "metadata": {},
     "output_type": "execute_result"
    }
   ],
   "source": [
    "%%time\n",
    "logreg_cv.fit(X_train, y_train)"
   ]
  },
  {
   "cell_type": "code",
   "execution_count": 170,
   "metadata": {},
   "outputs": [
    {
     "data": {
      "text/plain": [
       "LogisticRegression(C=4.0, class_weight=None, dual=False, fit_intercept=True,\n",
       "                   intercept_scaling=1, l1_ratio=None, max_iter=100,\n",
       "                   multi_class='warn', n_jobs=None, penalty='l1',\n",
       "                   random_state=None, solver='warn', tol=0.0001, verbose=0,\n",
       "                   warm_start=False)"
      ]
     },
     "execution_count": 170,
     "metadata": {},
     "output_type": "execute_result"
    }
   ],
   "source": [
    "logreg_cv.best_estimator_"
   ]
  },
  {
   "cell_type": "code",
   "execution_count": 172,
   "metadata": {},
   "outputs": [
    {
     "data": {
      "text/plain": [
       "{'C': 4.0, 'penalty': 'l1'}"
      ]
     },
     "execution_count": 172,
     "metadata": {},
     "output_type": "execute_result"
    }
   ],
   "source": [
    "logreg_cv.best_params_"
   ]
  },
  {
   "cell_type": "code",
   "execution_count": 171,
   "metadata": {
    "scrolled": false
   },
   "outputs": [
    {
     "name": "stdout",
     "output_type": "stream",
     "text": [
      "Logistic Regression best score after CV:  0.75\n"
     ]
    },
    {
     "data": {
      "image/png": "[encoded data removed]",
      "text/plain": [
       "<Figure size 432x288 with 1 Axes>"
      ]
     },
     "metadata": {
      "needs_background": "light"
     },
     "output_type": "display_data"
    }
   ],
   "source": [
    "cv_scores, holdout_scores = [], []\n",
    "Cs = [x/10 for x in range(1, 100, 1)]\n",
    "\n",
    "for c in Cs:\n",
    "    logreg=LogisticRegression(C = c, class_weight=None, dual=False, fit_intercept=True,\n",
    "                   intercept_scaling=1, l1_ratio=None, max_iter=100,\n",
    "                   multi_class='warn', n_jobs=None, penalty='l1',\n",
    "                   random_state=None, solver='warn', tol=0.0001, verbose=0,\n",
    "                   warm_start=False)\n",
    "    cv_scores.append(np.mean(cross_val_score(logreg, X_train, y_train, cv=kf)))\n",
    "    logreg.fit(X_train, y_train)\n",
    "    holdout_scores.append(accuracy_score(y_holdout, logreg.predict(X_holdout)))  \n",
    "plt.plot(Cs, cv_scores, label='CV')\n",
    "plt.plot(Cs, holdout_scores, label='holdout')\n",
    "plt.title('LogReg accuracy dep from C parameter value ')\n",
    "plt.legend();\n",
    "print(\"Logistic Regression best score after CV: \", max(holdout_scores))"
   ]
  },
  {
   "cell_type": "markdown",
   "metadata": {},
   "source": [
    "### Логистическая регрессия на кросс-валидации показала следующие результаты: Оптимальный параметр C = 4, использовалась L1-регуляризация, значение доли правильных ответов - 0.75"
   ]
  },
  {
   "cell_type": "markdown",
   "metadata": {},
   "source": [
    "# Скалирование признаков"
   ]
  },
  {
   "cell_type": "code",
   "execution_count": 128,
   "metadata": {},
   "outputs": [],
   "source": [
    "from sklearn.preprocessing import scale"
   ]
  },
  {
   "cell_type": "code",
   "execution_count": 129,
   "metadata": {},
   "outputs": [],
   "source": [
    "X_train_scaled = scale(X_train)\n",
    "X_holdout_scaled = scale(X_holdout)"
   ]
  },
  {
   "cell_type": "code",
   "execution_count": 130,
   "metadata": {},
   "outputs": [
    {
     "name": "stdout",
     "output_type": "stream",
     "text": [
      "Fitting 5 folds for each of 49 candidates, totalling 245 fits\n"
     ]
    },
    {
     "name": "stderr",
     "output_type": "stream",
     "text": [
      "[Parallel(n_jobs=-1)]: Using backend LokyBackend with 4 concurrent workers.\n",
      "[Parallel(n_jobs=-1)]: Done  42 tasks      | elapsed:    2.6s\n",
      "[Parallel(n_jobs=-1)]: Done 192 tasks      | elapsed:    7.1s\n",
      "[Parallel(n_jobs=-1)]: Done 245 out of 245 | elapsed:    8.7s finished\n"
     ]
    },
    {
     "data": {
      "text/plain": [
       "GridSearchCV(cv=StratifiedKFold(n_splits=5, random_state=13, shuffle=True),\n",
       "             error_score='raise-deprecating',\n",
       "             estimator=Pipeline(memory=None,\n",
       "                                steps=[('knn',\n",
       "                                        KNeighborsClassifier(algorithm='auto',\n",
       "                                                             leaf_size=30,\n",
       "                                                             metric='minkowski',\n",
       "                                                             metric_params=None,\n",
       "                                                             n_jobs=-1,\n",
       "                                                             n_neighbors=5, p=2,\n",
       "                                                             weights='uniform'))],\n",
       "                                verbose=False),\n",
       "             iid='warn', n_jobs=-1,\n",
       "             param_grid={'knn__n_neighbors': range(1, 50)},\n",
       "             pre_dispatch='2*n_jobs', refit=True, return_train_score=False,\n",
       "             scoring=None, verbose=True)"
      ]
     },
     "execution_count": 130,
     "metadata": {},
     "output_type": "execute_result"
    }
   ],
   "source": [
    "knn_grid.fit(X_train_scaled, y_train)"
   ]
  },
  {
   "cell_type": "code",
   "execution_count": 131,
   "metadata": {},
   "outputs": [
    {
     "data": {
      "text/plain": [
       "{'knn__n_neighbors': 31}"
      ]
     },
     "execution_count": 131,
     "metadata": {},
     "output_type": "execute_result"
    }
   ],
   "source": [
    "knn_grid.best_params_"
   ]
  },
  {
   "cell_type": "code",
   "execution_count": 132,
   "metadata": {},
   "outputs": [
    {
     "data": {
      "text/plain": [
       "0.7280701754385965"
      ]
     },
     "execution_count": 132,
     "metadata": {},
     "output_type": "execute_result"
    }
   ],
   "source": [
    "accuracy_score(y_holdout, knn_grid.predict(X_holdout_scaled))"
   ]
  },
  {
   "cell_type": "code",
   "execution_count": 119,
   "metadata": {},
   "outputs": [
    {
     "data": {
      "image/png": "[encoded data removed]",
      "text/plain": [
       "<Figure size 432x288 with 1 Axes>"
      ]
     },
     "metadata": {
      "needs_background": "light"
     },
     "output_type": "display_data"
    }
   ],
   "source": [
    "cv_scores, holdout_scores = [], []\n",
    "n_neighb = [x for x in range(1, 50, 1)]\n",
    "\n",
    "for k in n_neighb:\n",
    "    knn = KNeighborsClassifier(n_neighbors=k)\n",
    "    cv_scores.append(np.mean(cross_val_score(knn, X_train_scaled, y_train, cv=kf)))\n",
    "    knn.fit(X_train_scaled, y_train)\n",
    "    holdout_scores.append(accuracy_score(y_holdout, knn.predict(X_holdout_scaled)))\n",
    "\n",
    "plt.plot(n_neighb, cv_scores, label='CV')\n",
    "plt.plot(n_neighb, holdout_scores, label='holdout')\n",
    "plt.title('KNN dep of accuracy from Number of Neighbours after feature scaling')\n",
    "plt.legend();"
   ]
  },
  {
   "cell_type": "markdown",
   "metadata": {},
   "source": [
    "#### После скалирования признаков, количество соседей kNN увеличилось до 31, повысилась доля правильных ответов - 0.7280701754385965"
   ]
  },
  {
   "cell_type": "code",
   "execution_count": 173,
   "metadata": {},
   "outputs": [
    {
     "name": "stdout",
     "output_type": "stream",
     "text": [
      "Wall time: 5.2 s\n"
     ]
    },
    {
     "data": {
      "text/plain": [
       "GridSearchCV(cv=StratifiedKFold(n_splits=5, random_state=13, shuffle=True),\n",
       "             error_score='raise-deprecating',\n",
       "             estimator=LogisticRegression(C=1.0, class_weight=None, dual=False,\n",
       "                                          fit_intercept=True,\n",
       "                                          intercept_scaling=1, l1_ratio=None,\n",
       "                                          max_iter=100, multi_class='warn',\n",
       "                                          n_jobs=None, penalty='l2',\n",
       "                                          random_state=None, solver='warn',\n",
       "                                          tol=0.0001, verbose=0,\n",
       "                                          warm_start=False),\n",
       "             iid='warn', n_jobs=None,\n",
       "             param_grid={'C': [0.1, 0.2, 0.3, 0.4, 0.5, 0.6, 0.7, 0.8, 0.9, 1.0,\n",
       "                               1.1, 1.2, 1.3, 1.4, 1.5, 1.6, 1.7, 1.8, 1.9, 2.0,\n",
       "                               2.1, 2.2, 2.3, 2.4, 2.5, 2.6, 2.7, 2.8, 2.9, 3.0, ...],\n",
       "                         'penalty': ['l1', 'l2']},\n",
       "             pre_dispatch='2*n_jobs', refit=True, return_train_score=False,\n",
       "             scoring=None, verbose=0)"
      ]
     },
     "execution_count": 173,
     "metadata": {},
     "output_type": "execute_result"
    }
   ],
   "source": [
    "%%time\n",
    "logreg_cv.fit(X_train_scaled, y_train)"
   ]
  },
  {
   "cell_type": "code",
   "execution_count": 174,
   "metadata": {},
   "outputs": [
    {
     "data": {
      "text/plain": [
       "LogisticRegression(C=0.1, class_weight=None, dual=False, fit_intercept=True,\n",
       "                   intercept_scaling=1, l1_ratio=None, max_iter=100,\n",
       "                   multi_class='warn', n_jobs=None, penalty='l1',\n",
       "                   random_state=None, solver='warn', tol=0.0001, verbose=0,\n",
       "                   warm_start=False)"
      ]
     },
     "execution_count": 174,
     "metadata": {},
     "output_type": "execute_result"
    }
   ],
   "source": [
    "logreg_cv.best_estimator_"
   ]
  },
  {
   "cell_type": "code",
   "execution_count": 175,
   "metadata": {},
   "outputs": [
    {
     "data": {
      "text/plain": [
       "{'C': 0.1, 'penalty': 'l1'}"
      ]
     },
     "execution_count": 175,
     "metadata": {},
     "output_type": "execute_result"
    }
   ],
   "source": [
    "logreg_cv.best_params_"
   ]
  },
  {
   "cell_type": "code",
   "execution_count": 150,
   "metadata": {},
   "outputs": [
    {
     "data": {
      "text/plain": [
       "LogisticRegression(C=0.1, class_weight=None, dual=False, fit_intercept=True,\n",
       "                   intercept_scaling=1, l1_ratio=None, max_iter=100,\n",
       "                   multi_class='warn', n_jobs=None, penalty='l2',\n",
       "                   random_state=None, solver='warn', tol=0.0001, verbose=0,\n",
       "                   warm_start=False)"
      ]
     },
     "execution_count": 150,
     "metadata": {},
     "output_type": "execute_result"
    }
   ],
   "source": [
    "logreg_cv.best_estimator_"
   ]
  },
  {
   "cell_type": "code",
   "execution_count": 178,
   "metadata": {},
   "outputs": [
    {
     "name": "stdout",
     "output_type": "stream",
     "text": [
      "Logistic Regression best score after CV:  0.75\n"
     ]
    },
    {
     "data": {
      "image/png": "[encoded data removed]",
      "text/plain": [
       "<Figure size 432x288 with 1 Axes>"
      ]
     },
     "metadata": {
      "needs_background": "light"
     },
     "output_type": "display_data"
    }
   ],
   "source": [
    "cv_scores, holdout_scores = [], []\n",
    "Cs = [x/10 for x in range(1, 100, 1)]\n",
    "\n",
    "for c in Cs:\n",
    "    logreg=LogisticRegression(C = c,class_weight=None, dual=False, fit_intercept=True,\n",
    "                   intercept_scaling=1, l1_ratio=None, max_iter=100,\n",
    "                   multi_class='warn', n_jobs=None, penalty='l1',\n",
    "                   random_state=None, solver='warn', tol=0.0001, verbose=0,\n",
    "                   warm_start=False)\n",
    "    cv_scores.append(np.mean(cross_val_score(logreg, X_train, y_train, cv=kf)))\n",
    "    logreg.fit(X_train, y_train)\n",
    "    holdout_scores.append(accuracy_score(y_holdout, logreg.predict(X_holdout)))\n",
    "\n",
    "plt.plot(Cs, cv_scores, label='CV')\n",
    "plt.plot(Cs, holdout_scores, label='holdout')\n",
    "plt.title('LogReg accuracy dep from C parameter value after feature scaling')\n",
    "plt.legend();\n",
    "print(\"Logistic Regression best score after CV: \", max(holdout_scores))"
   ]
  },
  {
   "cell_type": "markdown",
   "metadata": {},
   "source": [
    "#### Скалирование признаков изменило оптимальное значение С для логистической регрессии - 0.1, значение доли правильных ответов не изменилось - 0.75"
   ]
  },
  {
   "cell_type": "markdown",
   "metadata": {},
   "source": [
    "## Вывод: исследованы методы kNN и Логистической регрессии, кросс-валидация для обоих методов позволяет существенно повысить долю правильных ответов (1% и 4% соответсвенно для kNN и логистической регрессии), а также изменила гиперпараметры моделей. Скалирование признаков также оказало влияние на гиперпараметры, но позволило повысить долю правильных ответов лишь для kNN (почти на 2%)."
   ]
  }
 ],
 "metadata": {
  "kernelspec": {
   "display_name": "Python 3",
   "language": "python",
   "name": "python3"
  },
  "language_info": {
   "codemirror_mode": {
    "name": "ipython",
    "version": 3
   },
   "file_extension": ".py",
   "mimetype": "text/x-python",
   "name": "python",
   "nbconvert_exporter": "python",
   "pygments_lexer": "ipython3",
   "version": "3.7.6"
  }
 },
 "nbformat": 4,
 "nbformat_minor": 2
}
