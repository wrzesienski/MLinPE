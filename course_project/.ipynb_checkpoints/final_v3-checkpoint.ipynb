{
 "cells": [
  {
   "cell_type": "markdown",
   "metadata": {},
   "source": [
    "<html>\n",
    "<head>\n",
    "\t<title></title>\n",
    "</head>\n",
    "<body>\n",
    "<h1 style=\"text-align: center;line-height: 120%;\">ФЕДЕРАЛЬНОЕ ГОСУДАРСТВЕННОЕ БЮДЖЕТНОЕ ОБРАЗОВАТЕЛЬНОЕ УЧРЕЖДЕНИЕ ВЫСШЕГО ОБРАЗОВАНИЯ НАЦИОНАЛЬНЫЙ ИССЛЕДОВАТЕЛЬСКИЙ УНИВЕРСИТЕТ «МОСКОВСКИЙ ЭНЕРГЕТИЧЕСКИЙ ИНСТИТУТ» Кафедра «РЗиАЭ»</h1>\n",
    "<h2 style=\"text-align: center;line-height: 20%;\">Курсовой проект</h2>\n",
    "\n",
    "<h3 style=\"text-align: center;line-height: 80%;\"><em>Классификация типов КЗ по осциллограммам тока и напряжения (рекуррентные сети) </em></h3>\n",
    "    \n",
    "<h3 style=\"text-align: center;line-height: 60%;\"><em>по дисциплине: \"Применение методов искусственного интеллекта в электроэнергетике\"   </em></h3>\n",
    "\n",
    "    \n",
    "<p style=\"text-align: right;line-height: 40%;\"> Выполнил: студент группы Э-13м-19</p>\n",
    "\n",
    "<p style=\"text-align: right;line-height: 40%;\">Жещинский А.И.</p>\n",
    "\n",
    "<p style=\"text-align: right;line-height: 40%;\">Принял: Рогозинников Е.И.</p>\n",
    "<h4 style=\"text-align: center;line-height: 100%;\"><em> Москва, 2021</em></h3>\n",
    "</body>\n",
    "</html>"
   ]
  },
  {
   "cell_type": "markdown",
   "metadata": {},
   "source": [
    "# 0. tasks"
   ]
  },
  {
   "cell_type": "markdown",
   "metadata": {},
   "source": [
    "<font size=3> В данном курсовом проекте ставилась задача разработать модель машинного обучения, классифицирующую тип КЗ по его осциллограмме. Исходная выборка осциллограмм генерируется в модели по MATLAB Simulink, основные параметры модели (тип КЗ, диапазон его действия, величина нагрузки и тд) рассчитываются случайным образом, что позволяет достичь некоего разнообразия входных данных. </font>\n",
    "\n"
   ]
  },
  {
   "cell_type": "markdown",
   "metadata": {},
   "source": [
    "## 1. libraries import"
   ]
  },
  {
   "cell_type": "code",
   "execution_count": 1,
   "metadata": {
    "scrolled": true
   },
   "outputs": [
    {
     "name": "stderr",
     "output_type": "stream",
     "text": [
      "C:\\Users\\Alexander\\anaconda3\\lib\\site-packages\\tensorflow\\python\\framework\\dtypes.py:516: FutureWarning: Passing (type, 1) or '1type' as a synonym of type is deprecated; in a future version of numpy, it will be understood as (type, (1,)) / '(1,)type'.\n",
      "  _np_qint8 = np.dtype([(\"qint8\", np.int8, 1)])\n",
      "C:\\Users\\Alexander\\anaconda3\\lib\\site-packages\\tensorflow\\python\\framework\\dtypes.py:517: FutureWarning: Passing (type, 1) or '1type' as a synonym of type is deprecated; in a future version of numpy, it will be understood as (type, (1,)) / '(1,)type'.\n",
      "  _np_quint8 = np.dtype([(\"quint8\", np.uint8, 1)])\n",
      "C:\\Users\\Alexander\\anaconda3\\lib\\site-packages\\tensorflow\\python\\framework\\dtypes.py:518: FutureWarning: Passing (type, 1) or '1type' as a synonym of type is deprecated; in a future version of numpy, it will be understood as (type, (1,)) / '(1,)type'.\n",
      "  _np_qint16 = np.dtype([(\"qint16\", np.int16, 1)])\n",
      "C:\\Users\\Alexander\\anaconda3\\lib\\site-packages\\tensorflow\\python\\framework\\dtypes.py:519: FutureWarning: Passing (type, 1) or '1type' as a synonym of type is deprecated; in a future version of numpy, it will be understood as (type, (1,)) / '(1,)type'.\n",
      "  _np_quint16 = np.dtype([(\"quint16\", np.uint16, 1)])\n",
      "C:\\Users\\Alexander\\anaconda3\\lib\\site-packages\\tensorflow\\python\\framework\\dtypes.py:520: FutureWarning: Passing (type, 1) or '1type' as a synonym of type is deprecated; in a future version of numpy, it will be understood as (type, (1,)) / '(1,)type'.\n",
      "  _np_qint32 = np.dtype([(\"qint32\", np.int32, 1)])\n",
      "C:\\Users\\Alexander\\anaconda3\\lib\\site-packages\\tensorflow\\python\\framework\\dtypes.py:525: FutureWarning: Passing (type, 1) or '1type' as a synonym of type is deprecated; in a future version of numpy, it will be understood as (type, (1,)) / '(1,)type'.\n",
      "  np_resource = np.dtype([(\"resource\", np.ubyte, 1)])\n",
      "C:\\Users\\Alexander\\anaconda3\\lib\\site-packages\\tensorboard\\compat\\tensorflow_stub\\dtypes.py:541: FutureWarning: Passing (type, 1) or '1type' as a synonym of type is deprecated; in a future version of numpy, it will be understood as (type, (1,)) / '(1,)type'.\n",
      "  _np_qint8 = np.dtype([(\"qint8\", np.int8, 1)])\n",
      "C:\\Users\\Alexander\\anaconda3\\lib\\site-packages\\tensorboard\\compat\\tensorflow_stub\\dtypes.py:542: FutureWarning: Passing (type, 1) or '1type' as a synonym of type is deprecated; in a future version of numpy, it will be understood as (type, (1,)) / '(1,)type'.\n",
      "  _np_quint8 = np.dtype([(\"quint8\", np.uint8, 1)])\n",
      "C:\\Users\\Alexander\\anaconda3\\lib\\site-packages\\tensorboard\\compat\\tensorflow_stub\\dtypes.py:543: FutureWarning: Passing (type, 1) or '1type' as a synonym of type is deprecated; in a future version of numpy, it will be understood as (type, (1,)) / '(1,)type'.\n",
      "  _np_qint16 = np.dtype([(\"qint16\", np.int16, 1)])\n",
      "C:\\Users\\Alexander\\anaconda3\\lib\\site-packages\\tensorboard\\compat\\tensorflow_stub\\dtypes.py:544: FutureWarning: Passing (type, 1) or '1type' as a synonym of type is deprecated; in a future version of numpy, it will be understood as (type, (1,)) / '(1,)type'.\n",
      "  _np_quint16 = np.dtype([(\"quint16\", np.uint16, 1)])\n",
      "C:\\Users\\Alexander\\anaconda3\\lib\\site-packages\\tensorboard\\compat\\tensorflow_stub\\dtypes.py:545: FutureWarning: Passing (type, 1) or '1type' as a synonym of type is deprecated; in a future version of numpy, it will be understood as (type, (1,)) / '(1,)type'.\n",
      "  _np_qint32 = np.dtype([(\"qint32\", np.int32, 1)])\n",
      "C:\\Users\\Alexander\\anaconda3\\lib\\site-packages\\tensorboard\\compat\\tensorflow_stub\\dtypes.py:550: FutureWarning: Passing (type, 1) or '1type' as a synonym of type is deprecated; in a future version of numpy, it will be understood as (type, (1,)) / '(1,)type'.\n",
      "  np_resource = np.dtype([(\"resource\", np.ubyte, 1)])\n"
     ]
    }
   ],
   "source": [
    "import pandas as pd\n",
    "import matplotlib.pyplot as plt\n",
    "import numpy as np\n",
    "import glob\n",
    "import os\n",
    "import random\n",
    "from tensorflow.keras.layers import LSTM \n",
    "from tensorflow.keras.models import Sequential\n",
    "from tensorflow.keras.layers import Embedding, Dense, Flatten, Activation, Dropout\n",
    "from tensorflow.keras.utils import to_categorical\n",
    "from tensorflow.keras.optimizers import RMSprop\n",
    "from sklearn.metrics import precision_score, recall_score, f1_score, confusion_matrix\n",
    "from tensorflow.keras.preprocessing import sequence\n",
    "import seaborn as sns"
   ]
  },
  {
   "cell_type": "markdown",
   "metadata": {},
   "source": [
    "## 2. data paths loading"
   ]
  },
  {
   "cell_type": "code",
   "execution_count": 2,
   "metadata": {},
   "outputs": [],
   "source": [
    "# Пути к каталогам с данными\n",
    "data_dir = \"C:\\\\Users\\\\Alexander\\\\PythonProjects\\\\AI_InPowerEl\\\\course_project\\\\data\""
   ]
  },
  {
   "cell_type": "markdown",
   "metadata": {},
   "source": [
    "открываем прилагаемый к осциллограммам readme-файл с видами сгенерированных кз"
   ]
  },
  {
   "cell_type": "code",
   "execution_count": 3,
   "metadata": {},
   "outputs": [
    {
     "name": "stdout",
     "output_type": "stream",
     "text": [
      "['OnePhaseSC', 'TwoPhaseSC', 'ThreePhaseSC']\n"
     ]
    }
   ],
   "source": [
    "with open(data_dir+'\\\\readme.txt', 'r') as file:\n",
    "    regimes = file.read().split()\n",
    "print(regimes)"
   ]
  },
  {
   "cell_type": "code",
   "execution_count": 4,
   "metadata": {},
   "outputs": [],
   "source": [
    "ph1 = glob.glob(os.path.join(data_dir, regimes[0]+'*.csv')) # массив с именованиями  актуальных файлов\n",
    "\n",
    "ph2 = glob.glob(os.path.join(data_dir, regimes[1]+'*.csv'))\n",
    "\n",
    "ph3 = glob.glob(os.path.join(data_dir, regimes[2]+'*.csv'))"
   ]
  },
  {
   "cell_type": "code",
   "execution_count": 5,
   "metadata": {},
   "outputs": [
    {
     "name": "stdout",
     "output_type": "stream",
     "text": [
      "1141\n",
      "1175\n",
      "1084\n"
     ]
    }
   ],
   "source": [
    "print(len(ph1))\n",
    "print(len(ph2))\n",
    "print(len(ph3))"
   ]
  },
  {
   "cell_type": "markdown",
   "metadata": {},
   "source": [
    " Визуализация одного датафрейма"
   ]
  },
  {
   "cell_type": "code",
   "execution_count": 6,
   "metadata": {},
   "outputs": [
    {
     "data": {
      "text/html": [
       "<div>\n",
       "<style scoped>\n",
       "    .dataframe tbody tr th:only-of-type {\n",
       "        vertical-align: middle;\n",
       "    }\n",
       "\n",
       "    .dataframe tbody tr th {\n",
       "        vertical-align: top;\n",
       "    }\n",
       "\n",
       "    .dataframe thead th {\n",
       "        text-align: right;\n",
       "    }\n",
       "</style>\n",
       "<table border=\"1\" class=\"dataframe\">\n",
       "  <thead>\n",
       "    <tr style=\"text-align: right;\">\n",
       "      <th></th>\n",
       "      <th>time</th>\n",
       "      <th>Ia</th>\n",
       "      <th>Ib</th>\n",
       "      <th>Ic</th>\n",
       "      <th>Ua</th>\n",
       "      <th>Ub</th>\n",
       "      <th>Uc</th>\n",
       "    </tr>\n",
       "  </thead>\n",
       "  <tbody>\n",
       "    <tr>\n",
       "      <th>0</th>\n",
       "      <td>0.000000e+00</td>\n",
       "      <td>-6.155922</td>\n",
       "      <td>-0.756653</td>\n",
       "      <td>8.682031</td>\n",
       "      <td>857.483492</td>\n",
       "      <td>-155846.346196</td>\n",
       "      <td>155783.018792</td>\n",
       "    </tr>\n",
       "    <tr>\n",
       "      <th>1</th>\n",
       "      <td>1.473094e-09</td>\n",
       "      <td>-6.155919</td>\n",
       "      <td>-0.756654</td>\n",
       "      <td>8.682032</td>\n",
       "      <td>857.566974</td>\n",
       "      <td>-155846.387710</td>\n",
       "      <td>155782.976699</td>\n",
       "    </tr>\n",
       "    <tr>\n",
       "      <th>2</th>\n",
       "      <td>8.838565e-09</td>\n",
       "      <td>-6.155905</td>\n",
       "      <td>-0.756659</td>\n",
       "      <td>8.682036</td>\n",
       "      <td>857.984385</td>\n",
       "      <td>-155846.595276</td>\n",
       "      <td>155782.766237</td>\n",
       "    </tr>\n",
       "    <tr>\n",
       "      <th>3</th>\n",
       "      <td>4.566592e-08</td>\n",
       "      <td>-6.155831</td>\n",
       "      <td>-0.756685</td>\n",
       "      <td>8.682061</td>\n",
       "      <td>860.071440</td>\n",
       "      <td>-155847.633094</td>\n",
       "      <td>155781.713913</td>\n",
       "    </tr>\n",
       "    <tr>\n",
       "      <th>4</th>\n",
       "      <td>2.298027e-07</td>\n",
       "      <td>-6.155466</td>\n",
       "      <td>-0.756813</td>\n",
       "      <td>8.682182</td>\n",
       "      <td>870.506714</td>\n",
       "      <td>-155852.821875</td>\n",
       "      <td>155776.451978</td>\n",
       "    </tr>\n",
       "    <tr>\n",
       "      <th>...</th>\n",
       "      <td>...</td>\n",
       "      <td>...</td>\n",
       "      <td>...</td>\n",
       "      <td>...</td>\n",
       "      <td>...</td>\n",
       "      <td>...</td>\n",
       "      <td>...</td>\n",
       "    </tr>\n",
       "    <tr>\n",
       "      <th>1495</th>\n",
       "      <td>1.336031e-01</td>\n",
       "      <td>-83.283956</td>\n",
       "      <td>2.325548</td>\n",
       "      <td>-5.583194</td>\n",
       "      <td>-712355.651247</td>\n",
       "      <td>147423.005622</td>\n",
       "      <td>16141.198836</td>\n",
       "    </tr>\n",
       "    <tr>\n",
       "      <th>1496</th>\n",
       "      <td>1.337031e-01</td>\n",
       "      <td>-83.424700</td>\n",
       "      <td>2.332435</td>\n",
       "      <td>-5.361507</td>\n",
       "      <td>-713856.617541</td>\n",
       "      <td>144116.146351</td>\n",
       "      <td>21776.728957</td>\n",
       "    </tr>\n",
       "    <tr>\n",
       "      <th>1497</th>\n",
       "      <td>1.338031e-01</td>\n",
       "      <td>-83.562296</td>\n",
       "      <td>2.337020</td>\n",
       "      <td>-5.134529</td>\n",
       "      <td>-715194.969628</td>\n",
       "      <td>140667.061834</td>\n",
       "      <td>27390.768016</td>\n",
       "    </tr>\n",
       "    <tr>\n",
       "      <th>1498</th>\n",
       "      <td>1.339031e-01</td>\n",
       "      <td>-83.696491</td>\n",
       "      <td>2.339299</td>\n",
       "      <td>-4.902485</td>\n",
       "      <td>-716368.595159</td>\n",
       "      <td>137079.155898</td>\n",
       "      <td>32977.775637</td>\n",
       "    </tr>\n",
       "    <tr>\n",
       "      <th>1499</th>\n",
       "      <td>1.340031e-01</td>\n",
       "      <td>-83.827039</td>\n",
       "      <td>2.339269</td>\n",
       "      <td>-4.665602</td>\n",
       "      <td>-717375.545508</td>\n",
       "      <td>133355.969373</td>\n",
       "      <td>38532.238118</td>\n",
       "    </tr>\n",
       "  </tbody>\n",
       "</table>\n",
       "<p>1500 rows × 7 columns</p>\n",
       "</div>"
      ],
      "text/plain": [
       "              time         Ia        Ib        Ic             Ua  \\\n",
       "0     0.000000e+00  -6.155922 -0.756653  8.682031     857.483492   \n",
       "1     1.473094e-09  -6.155919 -0.756654  8.682032     857.566974   \n",
       "2     8.838565e-09  -6.155905 -0.756659  8.682036     857.984385   \n",
       "3     4.566592e-08  -6.155831 -0.756685  8.682061     860.071440   \n",
       "4     2.298027e-07  -6.155466 -0.756813  8.682182     870.506714   \n",
       "...            ...        ...       ...       ...            ...   \n",
       "1495  1.336031e-01 -83.283956  2.325548 -5.583194 -712355.651247   \n",
       "1496  1.337031e-01 -83.424700  2.332435 -5.361507 -713856.617541   \n",
       "1497  1.338031e-01 -83.562296  2.337020 -5.134529 -715194.969628   \n",
       "1498  1.339031e-01 -83.696491  2.339299 -4.902485 -716368.595159   \n",
       "1499  1.340031e-01 -83.827039  2.339269 -4.665602 -717375.545508   \n",
       "\n",
       "                 Ub             Uc  \n",
       "0    -155846.346196  155783.018792  \n",
       "1    -155846.387710  155782.976699  \n",
       "2    -155846.595276  155782.766237  \n",
       "3    -155847.633094  155781.713913  \n",
       "4    -155852.821875  155776.451978  \n",
       "...             ...            ...  \n",
       "1495  147423.005622   16141.198836  \n",
       "1496  144116.146351   21776.728957  \n",
       "1497  140667.061834   27390.768016  \n",
       "1498  137079.155898   32977.775637  \n",
       "1499  133355.969373   38532.238118  \n",
       "\n",
       "[1500 rows x 7 columns]"
      ]
     },
     "execution_count": 6,
     "metadata": {},
     "output_type": "execute_result"
    }
   ],
   "source": [
    "data = pd.read_csv(ph1[0])\n",
    "data"
   ]
  },
  {
   "cell_type": "markdown",
   "metadata": {},
   "source": [
    "## 3. data preproceccing"
   ]
  },
  {
   "cell_type": "markdown",
   "metadata": {},
   "source": [
    "### 3.1. cutting 'timeseries' feature off the table"
   ]
  },
  {
   "cell_type": "code",
   "execution_count": 7,
   "metadata": {},
   "outputs": [],
   "source": [
    "ph1_list = [pd.read_csv(x).drop(columns=['time'], axis=1) for x in ph1[:500]]"
   ]
  },
  {
   "cell_type": "markdown",
   "metadata": {},
   "source": [
    "### visualization:"
   ]
  },
  {
   "cell_type": "code",
   "execution_count": 8,
   "metadata": {
    "scrolled": false
   },
   "outputs": [
    {
     "data": {
      "image/png": "[encoded data removed]",
      "text/plain": [
       "<Figure size 432x288 with 2 Axes>"
      ]
     },
     "metadata": {
      "needs_background": "light"
     },
     "output_type": "display_data"
    },
    {
     "data": {
      "image/png": "[encoded data removed]",
      "text/plain": [
       "<Figure size 432x288 with 2 Axes>"
      ]
     },
     "metadata": {
      "needs_background": "light"
     },
     "output_type": "display_data"
    },
    {
     "data": {
      "image/png": "[encoded data removed]",
      "text/plain": [
       "<Figure size 432x288 with 2 Axes>"
      ]
     },
     "metadata": {
      "needs_background": "light"
     },
     "output_type": "display_data"
    }
   ],
   "source": [
    "x = np.linspace(0,len(ph1_list[0]),len(ph1_list[0]))\n",
    "\n",
    "for osc in range(3):\n",
    "    osc1 = ph1_list[osc]\n",
    "    \n",
    "    \n",
    "    plt.subplot(211)\n",
    "    plt.plot(x, osc1.iloc[:,0:3])\n",
    "    plt.grid()\n",
    "    plt.xlabel('time')\n",
    "    plt.ylabel('I')\n",
    "    plt.title('One_Phase')\n",
    "    plt.subplot(212)\n",
    "    plt.plot(x, osc1.iloc[:,3:])\n",
    "    plt.grid()\n",
    "    plt.xlabel('time')\n",
    "    plt.ylabel('U')\n",
    "    plt.show()"
   ]
  },
  {
   "cell_type": "markdown",
   "metadata": {},
   "source": [
    "для остальных видов кз"
   ]
  },
  {
   "cell_type": "code",
   "execution_count": 9,
   "metadata": {},
   "outputs": [],
   "source": [
    "ph2_list = [pd.read_csv(x).drop(columns=['time'], axis=1) for x in ph2[:500]]\n",
    "ph3_list=[pd.read_csv(x).drop(columns=['time'], axis=1) for x in ph3[:500]]"
   ]
  },
  {
   "cell_type": "markdown",
   "metadata": {},
   "source": [
    "### 3.2. data normalization"
   ]
  },
  {
   "cell_type": "markdown",
   "metadata": {},
   "source": [
    "составим функцию нормализации признаков силы тока"
   ]
  },
  {
   "cell_type": "code",
   "execution_count": 10,
   "metadata": {},
   "outputs": [],
   "source": [
    "def normalize(data):\n",
    "    mean = data[['Ia','Ib','Ic']].mean(axis=0)\n",
    "    data[['Ia','Ib','Ic']] -= mean\n",
    "    std = data[['Ia','Ib','Ic']].std(axis=0)\n",
    "    data[['Ia','Ib','Ic']] /= std\n",
    "    \n",
    "    mean = data[['Ua','Ub','Uc']].mean(axis=0)\n",
    "    data[['Ua','Ub','Uc']] -= mean\n",
    "    std = data[['Ua','Ub','Uc']].std(axis=0)\n",
    "    data[['Ua','Ub','Uc']] /= std\n",
    "    \n",
    "    return data"
   ]
  },
  {
   "cell_type": "markdown",
   "metadata": {},
   "source": [
    "нормализируем"
   ]
  },
  {
   "cell_type": "code",
   "execution_count": 11,
   "metadata": {},
   "outputs": [],
   "source": [
    "ph1_norm = [normalize(table) for table in ph1_list]\n",
    "ph2_norm = [normalize(table) for table in ph2_list]\n",
    "ph3_norm = [normalize(table) for table in ph3_list]"
   ]
  },
  {
   "cell_type": "markdown",
   "metadata": {},
   "source": [
    "добавление к предобработанным данным столбца с меткой класса"
   ]
  },
  {
   "cell_type": "code",
   "execution_count": 12,
   "metadata": {},
   "outputs": [],
   "source": [
    "ph1_norm = [pd.concat([i,pd.DataFrame({'regime':[0]})], axis=1) for i in ph1_norm]\n",
    "ph2_norm = [pd.concat([i,pd.DataFrame({'regime':[1]})], axis=1) for i in ph2_norm]\n",
    "ph3_norm = [pd.concat([i,pd.DataFrame({'regime':[2]})], axis=1) for i in ph3_norm]"
   ]
  },
  {
   "cell_type": "markdown",
   "metadata": {},
   "source": [
    "создание второй выборки, исключающей признаки напряжения"
   ]
  },
  {
   "cell_type": "code",
   "execution_count": 13,
   "metadata": {},
   "outputs": [],
   "source": [
    "i1_norm = [norm.drop(['Ua','Ub','Uc'],axis=1) for norm in ph1_norm]\n",
    "i2_norm = [norm.drop(['Ua','Ub','Uc'],axis=1) for norm in ph2_norm]\n",
    "i3_norm = [norm.drop(['Ua','Ub','Uc'],axis=1) for norm in ph3_norm]"
   ]
  },
  {
   "cell_type": "markdown",
   "metadata": {},
   "source": [
    "нормализованная таблица признаков 'I'"
   ]
  },
  {
   "cell_type": "code",
   "execution_count": 14,
   "metadata": {},
   "outputs": [
    {
     "data": {
      "text/html": [
       "<div>\n",
       "<style scoped>\n",
       "    .dataframe tbody tr th:only-of-type {\n",
       "        vertical-align: middle;\n",
       "    }\n",
       "\n",
       "    .dataframe tbody tr th {\n",
       "        vertical-align: top;\n",
       "    }\n",
       "\n",
       "    .dataframe thead th {\n",
       "        text-align: right;\n",
       "    }\n",
       "</style>\n",
       "<table border=\"1\" class=\"dataframe\">\n",
       "  <thead>\n",
       "    <tr style=\"text-align: right;\">\n",
       "      <th></th>\n",
       "      <th>Ia</th>\n",
       "      <th>Ib</th>\n",
       "      <th>Ic</th>\n",
       "      <th>Ua</th>\n",
       "      <th>Ub</th>\n",
       "      <th>Uc</th>\n",
       "      <th>regime</th>\n",
       "    </tr>\n",
       "  </thead>\n",
       "  <tbody>\n",
       "    <tr>\n",
       "      <th>0</th>\n",
       "      <td>-0.044587</td>\n",
       "      <td>-0.409077</td>\n",
       "      <td>1.333035</td>\n",
       "      <td>0.892206</td>\n",
       "      <td>-1.172501</td>\n",
       "      <td>1.243234</td>\n",
       "      <td>0.0</td>\n",
       "    </tr>\n",
       "    <tr>\n",
       "      <th>1</th>\n",
       "      <td>-0.044587</td>\n",
       "      <td>-0.409078</td>\n",
       "      <td>1.333035</td>\n",
       "      <td>0.892206</td>\n",
       "      <td>-1.172501</td>\n",
       "      <td>1.243234</td>\n",
       "      <td>NaN</td>\n",
       "    </tr>\n",
       "    <tr>\n",
       "      <th>2</th>\n",
       "      <td>-0.044587</td>\n",
       "      <td>-0.409081</td>\n",
       "      <td>1.333036</td>\n",
       "      <td>0.892207</td>\n",
       "      <td>-1.172503</td>\n",
       "      <td>1.243232</td>\n",
       "      <td>NaN</td>\n",
       "    </tr>\n",
       "    <tr>\n",
       "      <th>3</th>\n",
       "      <td>-0.044587</td>\n",
       "      <td>-0.409096</td>\n",
       "      <td>1.333040</td>\n",
       "      <td>0.892211</td>\n",
       "      <td>-1.172511</td>\n",
       "      <td>1.243224</td>\n",
       "      <td>NaN</td>\n",
       "    </tr>\n",
       "    <tr>\n",
       "      <th>4</th>\n",
       "      <td>-0.044587</td>\n",
       "      <td>-0.409174</td>\n",
       "      <td>1.333059</td>\n",
       "      <td>0.892231</td>\n",
       "      <td>-1.172551</td>\n",
       "      <td>1.243182</td>\n",
       "      <td>NaN</td>\n",
       "    </tr>\n",
       "    <tr>\n",
       "      <th>...</th>\n",
       "      <td>...</td>\n",
       "      <td>...</td>\n",
       "      <td>...</td>\n",
       "      <td>...</td>\n",
       "      <td>...</td>\n",
       "      <td>...</td>\n",
       "      <td>...</td>\n",
       "    </tr>\n",
       "    <tr>\n",
       "      <th>1495</th>\n",
       "      <td>-0.113381</td>\n",
       "      <td>1.451028</td>\n",
       "      <td>-0.895574</td>\n",
       "      <td>-0.473589</td>\n",
       "      <td>1.174941</td>\n",
       "      <td>0.139320</td>\n",
       "      <td>NaN</td>\n",
       "    </tr>\n",
       "    <tr>\n",
       "      <th>1496</th>\n",
       "      <td>-0.113506</td>\n",
       "      <td>1.455184</td>\n",
       "      <td>-0.860941</td>\n",
       "      <td>-0.476464</td>\n",
       "      <td>1.149344</td>\n",
       "      <td>0.183870</td>\n",
       "      <td>NaN</td>\n",
       "    </tr>\n",
       "    <tr>\n",
       "      <th>1497</th>\n",
       "      <td>-0.113629</td>\n",
       "      <td>1.457951</td>\n",
       "      <td>-0.825481</td>\n",
       "      <td>-0.479027</td>\n",
       "      <td>1.122647</td>\n",
       "      <td>0.228251</td>\n",
       "      <td>NaN</td>\n",
       "    </tr>\n",
       "    <tr>\n",
       "      <th>1498</th>\n",
       "      <td>-0.113749</td>\n",
       "      <td>1.459326</td>\n",
       "      <td>-0.789229</td>\n",
       "      <td>-0.481274</td>\n",
       "      <td>1.094875</td>\n",
       "      <td>0.272418</td>\n",
       "      <td>NaN</td>\n",
       "    </tr>\n",
       "    <tr>\n",
       "      <th>1499</th>\n",
       "      <td>-0.113865</td>\n",
       "      <td>1.459308</td>\n",
       "      <td>-0.752222</td>\n",
       "      <td>-0.483202</td>\n",
       "      <td>1.066056</td>\n",
       "      <td>0.316328</td>\n",
       "      <td>NaN</td>\n",
       "    </tr>\n",
       "  </tbody>\n",
       "</table>\n",
       "<p>1500 rows × 7 columns</p>\n",
       "</div>"
      ],
      "text/plain": [
       "            Ia        Ib        Ic        Ua        Ub        Uc  regime\n",
       "0    -0.044587 -0.409077  1.333035  0.892206 -1.172501  1.243234     0.0\n",
       "1    -0.044587 -0.409078  1.333035  0.892206 -1.172501  1.243234     NaN\n",
       "2    -0.044587 -0.409081  1.333036  0.892207 -1.172503  1.243232     NaN\n",
       "3    -0.044587 -0.409096  1.333040  0.892211 -1.172511  1.243224     NaN\n",
       "4    -0.044587 -0.409174  1.333059  0.892231 -1.172551  1.243182     NaN\n",
       "...        ...       ...       ...       ...       ...       ...     ...\n",
       "1495 -0.113381  1.451028 -0.895574 -0.473589  1.174941  0.139320     NaN\n",
       "1496 -0.113506  1.455184 -0.860941 -0.476464  1.149344  0.183870     NaN\n",
       "1497 -0.113629  1.457951 -0.825481 -0.479027  1.122647  0.228251     NaN\n",
       "1498 -0.113749  1.459326 -0.789229 -0.481274  1.094875  0.272418     NaN\n",
       "1499 -0.113865  1.459308 -0.752222 -0.483202  1.066056  0.316328     NaN\n",
       "\n",
       "[1500 rows x 7 columns]"
      ]
     },
     "execution_count": 14,
     "metadata": {},
     "output_type": "execute_result"
    }
   ],
   "source": [
    "ph1_norm[0]"
   ]
  },
  {
   "cell_type": "markdown",
   "metadata": {},
   "source": [
    "### 3.4 data preparing for train/test"
   ]
  },
  {
   "cell_type": "markdown",
   "metadata": {},
   "source": [
    "фукнция разделения исходной таблицы на выборки и метки"
   ]
  },
  {
   "cell_type": "code",
   "execution_count": 15,
   "metadata": {},
   "outputs": [],
   "source": [
    "def divide_df(norm_data):\n",
    "\n",
    "    X = norm_data.drop(columns='regime', axis=1)\n",
    "    y = norm_data['regime']\n",
    "    return np.asarray(X), np.asarray(y)"
   ]
  },
  {
   "cell_type": "code",
   "execution_count": 16,
   "metadata": {},
   "outputs": [],
   "source": [
    "ph1_x_y = [divide_df(table) for table in ph1_norm]\n",
    "ph2_x_y = [divide_df(table) for table in ph2_norm]\n",
    "ph3_x_y = [divide_df(table) for table in ph3_norm]\n",
    "\n",
    "i1_x_y = [divide_df(table) for table in i1_norm]\n",
    "i2_x_y = [divide_df(table) for table in i2_norm]\n",
    "i3_x_y = [divide_df(table) for table in i3_norm]"
   ]
  },
  {
   "cell_type": "markdown",
   "metadata": {},
   "source": [
    "создадим единый массив осциллограмм"
   ]
  },
  {
   "cell_type": "code",
   "execution_count": 17,
   "metadata": {},
   "outputs": [],
   "source": [
    "dataset = []\n",
    "\n",
    "for sett in ph1_x_y:\n",
    "    dataset.append(sett)\n",
    "    \n",
    "for settt in ph2_x_y:\n",
    "    dataset.append(settt)\n",
    "    \n",
    "for setttt in ph3_x_y:\n",
    "    dataset.append(setttt)\n",
    "    \n",
    "i_dataset = []\n",
    "\n",
    "for sett in i1_x_y:\n",
    "    i_dataset.append(sett)\n",
    "    \n",
    "for settt in i2_x_y:\n",
    "    i_dataset.append(settt)\n",
    "    \n",
    "for setttt in i3_x_y:\n",
    "    i_dataset.append(setttt)"
   ]
  },
  {
   "cell_type": "markdown",
   "metadata": {},
   "source": [
    "перетасовка списка"
   ]
  },
  {
   "cell_type": "code",
   "execution_count": 18,
   "metadata": {},
   "outputs": [],
   "source": [
    "random.shuffle(dataset)\n",
    "random.shuffle(i_dataset)"
   ]
  },
  {
   "cell_type": "markdown",
   "metadata": {},
   "source": [
    "разделение списка на тренируемую и обучаемую выборки"
   ]
  },
  {
   "cell_type": "code",
   "execution_count": 19,
   "metadata": {},
   "outputs": [],
   "source": [
    "train_data = dataset[:int(len(dataset)*0.6)]\n",
    "val_data = dataset[int(len(dataset)*0.6):int(len(dataset)*0.8)]\n",
    "test_data = dataset[int(len(dataset)*0.8):]\n",
    "\n",
    "\n",
    "\n",
    "i_train_data = i_dataset[:int(len(i_dataset)*0.6)]\n",
    "i_val_data = i_dataset[int(len(i_dataset)*0.6):int(len(i_dataset)*0.8)]\n",
    "i_test_data = i_dataset[int(len(i_dataset)*0.8):]"
   ]
  },
  {
   "cell_type": "markdown",
   "metadata": {},
   "source": [
    "составление из каждого объекта выборки отдельной выборки признаков и ответов"
   ]
  },
  {
   "cell_type": "code",
   "execution_count": 20,
   "metadata": {},
   "outputs": [],
   "source": [
    "def convert_targets(train, val, test):\n",
    "    y_train  = [y[1] for y in train]\n",
    "    y_val  = [y[1] for y in val]\n",
    "\n",
    "    y_test  = [y[1] for y in test]\n",
    "    return  np.asarray([[i[0]] for i in y_train]),np.asarray([[i[0]] for i in y_val]), np.asarray([[i[0]] for i in y_test])"
   ]
  },
  {
   "cell_type": "code",
   "execution_count": 21,
   "metadata": {},
   "outputs": [],
   "source": [
    "X_train = np.asarray([X[0] for X in train_data])\n",
    "iX_train = np.asarray([X[0] for X in i_train_data])\n",
    "\n",
    "X_val = np.asarray([X[0] for X in val_data])\n",
    "iX_val = np.asarray([X[0] for X in i_val_data])\n",
    "\n",
    "X_test = np.asarray([X[0] for X in test_data])\n",
    "iX_test = np.asarray([X[0] for X in i_test_data])\n",
    "\n",
    "y_train, y_val, y_test = convert_targets(train_data,val_data, test_data)\n",
    "iy_train, iy_val, iy_test = convert_targets(i_train_data, i_val_data, i_test_data)"
   ]
  },
  {
   "cell_type": "markdown",
   "metadata": {},
   "source": [
    "наблюдаемый срез получившихся списков"
   ]
  },
  {
   "cell_type": "code",
   "execution_count": 22,
   "metadata": {},
   "outputs": [
    {
     "data": {
      "text/plain": [
       "(900, 1500, 6)"
      ]
     },
     "execution_count": 22,
     "metadata": {},
     "output_type": "execute_result"
    }
   ],
   "source": [
    "X_train.shape"
   ]
  },
  {
   "cell_type": "code",
   "execution_count": 23,
   "metadata": {},
   "outputs": [
    {
     "data": {
      "text/plain": [
       "(900, 1)"
      ]
     },
     "execution_count": 23,
     "metadata": {},
     "output_type": "execute_result"
    }
   ],
   "source": [
    "y_train.shape"
   ]
  },
  {
   "cell_type": "code",
   "execution_count": 24,
   "metadata": {},
   "outputs": [
    {
     "data": {
      "text/plain": [
       "(300, 1500, 6)"
      ]
     },
     "execution_count": 24,
     "metadata": {},
     "output_type": "execute_result"
    }
   ],
   "source": [
    "X_test.shape"
   ]
  },
  {
   "cell_type": "code",
   "execution_count": 25,
   "metadata": {},
   "outputs": [
    {
     "data": {
      "text/plain": [
       "(300, 1)"
      ]
     },
     "execution_count": 25,
     "metadata": {},
     "output_type": "execute_result"
    }
   ],
   "source": [
    "iy_test.shape"
   ]
  },
  {
   "cell_type": "markdown",
   "metadata": {},
   "source": [
    "перевод списка меток в бинарную матрицу"
   ]
  },
  {
   "cell_type": "code",
   "execution_count": 26,
   "metadata": {},
   "outputs": [],
   "source": [
    "y_train = to_categorical(y_train, 3)\n",
    "y_val = to_categorical(y_val, 3)\n",
    "y_test = to_categorical(y_test, 3)\n",
    "\n",
    "iy_val = to_categorical(iy_val, 3)\n",
    "iy_train = to_categorical(iy_train, 3)\n",
    "iy_test = to_categorical(iy_test, 3)"
   ]
  },
  {
   "cell_type": "markdown",
   "metadata": {},
   "source": [
    "## 4. training/testing"
   ]
  },
  {
   "cell_type": "markdown",
   "metadata": {},
   "source": [
    "### 4.1 training"
   ]
  },
  {
   "cell_type": "markdown",
   "metadata": {},
   "source": [
    "составим функцию модели рекуррентной сети"
   ]
  },
  {
   "cell_type": "code",
   "execution_count": 27,
   "metadata": {},
   "outputs": [],
   "source": [
    "def design_model(x_data, y_data, x_val, y_val, verbose= 1, epochs=15, batch_size =64):\n",
    "    \n",
    "    n_timesteps, n_features,  n_outputs = x_data.shape[1], x_data.shape[2], y_data.shape[1]\n",
    "    model = Sequential()\n",
    "    model.add(LSTM(50, input_shape=(n_timesteps,n_features)))\n",
    "#     model.add(LSTM(50, input_shape=(n_timesteps,n_features)))\n",
    "    model.add(Dropout(0.5))\n",
    "    model.add(Dense(50, activation='relu'))\n",
    "    model.add(Dense(n_outputs, activation='softmax'))\n",
    "    model.compile(loss='categorical_crossentropy', optimizer='adam', metrics=['Precision','Recall','AUC'])\n",
    "    history = model.fit(x_data, y_data, epochs=epochs, validation_data=(x_val, y_val), batch_size=batch_size, verbose=verbose)\n",
    "    \n",
    "    return model, history"
   ]
  },
  {
   "cell_type": "markdown",
   "metadata": {},
   "source": [
    "создадим и обучим модель на основе выборки токов"
   ]
  },
  {
   "cell_type": "code",
   "execution_count": 28,
   "metadata": {
    "scrolled": true
   },
   "outputs": [
    {
     "name": "stdout",
     "output_type": "stream",
     "text": [
      "WARNING:tensorflow:From C:\\Users\\Alexander\\anaconda3\\lib\\site-packages\\tensorflow\\python\\ops\\init_ops.py:1251: calling VarianceScaling.__init__ (from tensorflow.python.ops.init_ops) with dtype is deprecated and will be removed in a future version.\n",
      "Instructions for updating:\n",
      "Call initializer instance with the dtype argument instead of passing it to the constructor\n",
      "Train on 900 samples, validate on 300 samples\n",
      "WARNING:tensorflow:From C:\\Users\\Alexander\\anaconda3\\lib\\site-packages\\tensorflow\\python\\ops\\math_grad.py:1250: add_dispatch_support.<locals>.wrapper (from tensorflow.python.ops.array_ops) is deprecated and will be removed in a future version.\n",
      "Instructions for updating:\n",
      "Use tf.where in 2.0, which has the same broadcast rule as np.where\n",
      "Epoch 1/15\n",
      "900/900 [==============================] - 26s 29ms/sample - loss: 1.0399 - precision: 0.7826 - recall: 0.0200 - auc: 0.6466 - val_loss: 0.9838 - val_precision: 0.7692 - val_recall: 0.0667 - val_auc: 0.6920\n",
      "Epoch 2/15\n",
      "900/900 [==============================] - 21s 23ms/sample - loss: 0.9491 - precision: 0.6283 - recall: 0.1578 - auc: 0.7277 - val_loss: 0.8856 - val_precision: 0.6080 - val_recall: 0.2533 - val_auc: 0.7623\n",
      "Epoch 3/15\n",
      "900/900 [==============================] - 19s 21ms/sample - loss: 0.8381 - precision: 0.6324 - recall: 0.2867 - auc: 0.8111 - val_loss: 0.7704 - val_precision: 0.6807 - val_recall: 0.5400 - val_auc: 0.8485\n",
      "Epoch 4/15\n",
      "900/900 [==============================] - 20s 23ms/sample - loss: 0.6847 - precision: 0.7427 - recall: 0.6222 - auc: 0.8820 - val_loss: 0.6203 - val_precision: 0.7391 - val_recall: 0.6800 - val_auc: 0.9036\n",
      "Epoch 5/15\n",
      "900/900 [==============================] - 20s 22ms/sample - loss: 0.5504 - precision: 0.7782 - recall: 0.7211 - auc: 0.9219 - val_loss: 0.4978 - val_precision: 0.8066 - val_recall: 0.7367 - val_auc: 0.9314\n",
      "Epoch 6/15\n",
      "900/900 [==============================] - 21s 24ms/sample - loss: 0.4485 - precision: 0.8474 - recall: 0.7833 - auc: 0.9490 - val_loss: 0.4755 - val_precision: 0.9032 - val_recall: 0.8400 - val_auc: 0.9500\n",
      "Epoch 7/15\n",
      "900/900 [==============================] - 22s 24ms/sample - loss: 0.4236 - precision: 0.8976 - recall: 0.8478 - auc: 0.9566 - val_loss: 0.4112 - val_precision: 0.9056 - val_recall: 0.8633 - val_auc: 0.9591\n",
      "Epoch 8/15\n",
      "900/900 [==============================] - 22s 25ms/sample - loss: 0.3840 - precision: 0.9082 - recall: 0.8689 - auc: 0.9630 - val_loss: 0.3279 - val_precision: 0.9120 - val_recall: 0.8633 - val_auc: 0.9698\n",
      "Epoch 9/15\n",
      "900/900 [==============================] - 28s 31ms/sample - loss: 0.3650 - precision: 0.8986 - recall: 0.8667 - auc: 0.9642 - val_loss: 0.3634 - val_precision: 0.9263 - val_recall: 0.8800 - val_auc: 0.9640\n",
      "Epoch 10/15\n",
      "900/900 [==============================] - 28s 31ms/sample - loss: 0.3157 - precision: 0.9233 - recall: 0.8956 - auc: 0.9754 - val_loss: 0.2961 - val_precision: 0.9298 - val_recall: 0.8833 - val_auc: 0.9763\n",
      "Epoch 11/15\n",
      "900/900 [==============================] - 24s 26ms/sample - loss: 0.2659 - precision: 0.9339 - recall: 0.9111 - auc: 0.9818 - val_loss: 0.2784 - val_precision: 0.9266 - val_recall: 0.8833 - val_auc: 0.9778\n",
      "Epoch 12/15\n",
      "900/900 [==============================] - 24s 27ms/sample - loss: 0.3041 - precision: 0.9042 - recall: 0.8700 - auc: 0.9753 - val_loss: 0.3161 - val_precision: 0.9088 - val_recall: 0.8633 - val_auc: 0.9730\n",
      "Epoch 13/15\n",
      "900/900 [==============================] - 24s 27ms/sample - loss: 0.3482 - precision: 0.8978 - recall: 0.8589 - auc: 0.9669 - val_loss: 0.3217 - val_precision: 0.9059 - val_recall: 0.8667 - val_auc: 0.9704\n",
      "Epoch 14/15\n",
      "900/900 [==============================] - 25s 28ms/sample - loss: 0.2905 - precision: 0.9246 - recall: 0.8989 - auc: 0.9774 - val_loss: 0.2801 - val_precision: 0.9178 - val_recall: 0.8933 - val_auc: 0.9787\n",
      "Epoch 15/15\n",
      "900/900 [==============================] - 25s 28ms/sample - loss: 0.2643 - precision: 0.9144 - recall: 0.8900 - auc: 0.9829 - val_loss: 0.2085 - val_precision: 0.9556 - val_recall: 0.9333 - val_auc: 0.9893\n"
     ]
    }
   ],
   "source": [
    "model, i_history = design_model(iX_train,iy_train, iX_val, iy_val)"
   ]
  },
  {
   "cell_type": "markdown",
   "metadata": {},
   "source": [
    "распишем функции, полезные для преобразования прогнозируемых ответов в исходное состояние "
   ]
  },
  {
   "cell_type": "markdown",
   "metadata": {},
   "source": [
    "### 4.2 testing"
   ]
  },
  {
   "cell_type": "code",
   "execution_count": 30,
   "metadata": {},
   "outputs": [],
   "source": [
    "def predict_classes(pred, true):\n",
    "    \n",
    "    preds = []\n",
    "    trues = []\n",
    "    for i in range(len(pred)):\n",
    "\n",
    "\n",
    "        if pred[i][0] == 1.0:\n",
    "            preds.append(0)\n",
    "        elif pred[i][1] == 1.0:\n",
    "            preds.append(1)\n",
    "        else:\n",
    "            preds.append(2)\n",
    "        \n",
    "            \n",
    "    for i in range(len(true)):\n",
    "        if true[i][0] == 1.0:\n",
    "            trues.append(0)\n",
    "        elif true[i][1] == 1.0:\n",
    "            trues.append(1)\n",
    "        else:\n",
    "            trues.append(2)\n",
    "            \n",
    "    return preds, trues"
   ]
  },
  {
   "cell_type": "code",
   "execution_count": 31,
   "metadata": {},
   "outputs": [],
   "source": [
    "def binary_series(pred):\n",
    "    for i in range(len(pred)):\n",
    "        for j in range(len(pred[i])):\n",
    "            if pred[i][j] >= 0.5:\n",
    "                pred[i][j] = 1.0\n",
    "            else:\n",
    "                pred[i][j] = 0.0\n",
    "    return pred"
   ]
  },
  {
   "cell_type": "code",
   "execution_count": 32,
   "metadata": {},
   "outputs": [],
   "source": [
    "def confus_matrix(pred, true):\n",
    "    confusion_matrix2 = confusion_matrix(pred, true)\n",
    "    cm_df = pd.DataFrame(data = confusion_matrix2, columns = ['OnePhTrue','TwoPhTrue','ThreePhTrue'],\n",
    "                         index = ['OnePhPred','TwoPhPred','ThreePhPred'])\n",
    "    \n",
    "    f, ax = plt.subplots(figsize=(10,8))\n",
    "    ax = sns.heatmap(cm_df, annot=True, fmt='d')\n",
    "    return ax"
   ]
  },
  {
   "cell_type": "code",
   "execution_count": 33,
   "metadata": {},
   "outputs": [],
   "source": [
    "def f_score_plot( history, pr, rec, epochs=15):\n",
    "    f1_score_list_train = []\n",
    "    f1_score_list_test = []\n",
    "    for i in range(epochs):\n",
    "        f1_score_list_train.append(2 * history.history[pr][i] * history.history[rec][i] / (history.history[pr][i] + history.history[rec][i]))\n",
    "        f1_score_list_test.append(2 * history.history[pr][i] * history.history[rec][i] / (history.history[pr][i] + history.history[rec][i]))\n",
    "\n",
    "    plt.figure(figsize=(10,6))\n",
    "    plt.plot(range(0,epochs), f1_score_list_test)#, label = 'Accuracy')\n",
    "    plt.xlabel('EPOCHS')\n",
    "    plt.ylabel('f1_score на валидационной выборке')\n",
    "    plt.grid()\n",
    "    plt.legend(['test_f1_score'], loc = 'upper left')\n",
    "    plt.show()"
   ]
  },
  {
   "cell_type": "markdown",
   "metadata": {},
   "source": [
    "протестируем модель на тестовой выборке"
   ]
  },
  {
   "cell_type": "code",
   "execution_count": 34,
   "metadata": {},
   "outputs": [
    {
     "name": "stdout",
     "output_type": "stream",
     "text": [
      "300/300 [==============================] - 1s 5ms/sample\n"
     ]
    }
   ],
   "source": [
    "pred = model.predict(iX_test, batch_size=64, verbose=1)\n",
    "y_pred = binary_series(pred)\n",
    "true_class, pred_class = predict_classes(iy_test, y_pred)"
   ]
  },
  {
   "cell_type": "code",
   "execution_count": 35,
   "metadata": {},
   "outputs": [
    {
     "data": {
      "text/plain": [
       "<AxesSubplot:>"
      ]
     },
     "execution_count": 35,
     "metadata": {},
     "output_type": "execute_result"
    },
    {
     "data": {
      "image/png": "[encoded data removed]",
      "text/plain": [
       "<Figure size 720x576 with 2 Axes>"
      ]
     },
     "metadata": {
      "needs_background": "light"
     },
     "output_type": "display_data"
    }
   ],
   "source": [
    "confus_matrix(true_class[:len(pred_class)], pred_class)"
   ]
  },
  {
   "cell_type": "markdown",
   "metadata": {},
   "source": [
    "покажем качество прогнозирования на матрице ошибок и тенденции f-скоринга"
   ]
  },
  {
   "cell_type": "code",
   "execution_count": 37,
   "metadata": {
    "scrolled": true
   },
   "outputs": [
    {
     "data": {
      "image/png": "[encoded data removed]",
      "text/plain": [
       "<Figure size 720x432 with 1 Axes>"
      ]
     },
     "metadata": {
      "needs_background": "light"
     },
     "output_type": "display_data"
    }
   ],
   "source": [
    "f_score_plot(i_history, pr='precision', rec='recall')"
   ]
  },
  {
   "cell_type": "markdown",
   "metadata": {},
   "source": [
    "как можно убедиться, модель показала убедительные результаты в прогнозировании"
   ]
  },
  {
   "cell_type": "markdown",
   "metadata": {},
   "source": [
    "### 4.3 bonuse"
   ]
  },
  {
   "cell_type": "markdown",
   "metadata": {},
   "source": [
    "составим модель на основе полной выборки признаков токов и напряжений"
   ]
  },
  {
   "cell_type": "code",
   "execution_count": 43,
   "metadata": {
    "scrolled": true
   },
   "outputs": [
    {
     "name": "stdout",
     "output_type": "stream",
     "text": [
      "Train on 900 samples, validate on 300 samples\n",
      "Epoch 1/15\n",
      "900/900 [==============================] - 68s 76ms/sample - loss: 1.0655 - precision_6: 0.8788 - recall_6: 0.0322 - auc_6: 0.6083 - val_loss: 0.9981 - val_precision_6: 0.9565 - val_recall_6: 0.0733 - val_auc_6: 0.7586\n",
      "Epoch 2/15\n",
      "900/900 [==============================] - 57s 63ms/sample - loss: 0.9705 - precision_6: 0.7610 - recall_6: 0.1344 - auc_6: 0.7359 - val_loss: 0.8769 - val_precision_6: 0.6855 - val_recall_6: 0.2833 - val_auc_6: 0.7864\n",
      "Epoch 3/15\n",
      "900/900 [==============================] - 38s 42ms/sample - loss: 0.8346 - precision_6: 0.7313 - recall_6: 0.4022 - auc_6: 0.8032 - val_loss: 0.7040 - val_precision_6: 0.7195 - val_recall_6: 0.5300 - val_auc_6: 0.8596\n",
      "Epoch 4/15\n",
      "900/900 [==============================] - 36s 40ms/sample - loss: 0.6492 - precision_6: 0.7613 - recall_6: 0.5989 - auc_6: 0.8878 - val_loss: 0.6060 - val_precision_6: 0.7695 - val_recall_6: 0.6233 - val_auc_6: 0.9090\n",
      "Epoch 5/15\n",
      "900/900 [==============================] - 37s 41ms/sample - loss: 0.5518 - precision_6: 0.8271 - recall_6: 0.6911 - auc_6: 0.9274 - val_loss: 0.5206 - val_precision_6: 0.7863 - val_recall_6: 0.6867 - val_auc_6: 0.9258\n",
      "Epoch 6/15\n",
      "900/900 [==============================] - 38s 42ms/sample - loss: 0.4350 - precision_6: 0.8696 - recall_6: 0.7778 - auc_6: 0.9554 - val_loss: 0.3666 - val_precision_6: 0.9033 - val_recall_6: 0.8100 - val_auc_6: 0.9656\n",
      "Epoch 7/15\n",
      "900/900 [==============================] - 36s 40ms/sample - loss: 0.3566 - precision_6: 0.8857 - recall_6: 0.8178 - auc_6: 0.9672 - val_loss: 0.3292 - val_precision_6: 0.9148 - val_recall_6: 0.8233 - val_auc_6: 0.9720\n",
      "Epoch 8/15\n",
      "900/900 [==============================] - 36s 40ms/sample - loss: 0.2657 - precision_6: 0.9370 - recall_6: 0.8600 - auc_6: 0.9826 - val_loss: 0.2003 - val_precision_6: 0.9564 - val_recall_6: 0.8767 - val_auc_6: 0.9883\n",
      "Epoch 9/15\n",
      "900/900 [==============================] - 38s 42ms/sample - loss: 0.2217 - precision_6: 0.9472 - recall_6: 0.8778 - auc_6: 0.9856 - val_loss: 0.1862 - val_precision_6: 0.9781 - val_recall_6: 0.8933 - val_auc_6: 0.9892\n",
      "Epoch 10/15\n",
      "900/900 [==============================] - 36s 40ms/sample - loss: 0.6131 - precision_6: 0.8546 - recall_6: 0.7967 - auc_6: 0.9218 - val_loss: 0.3677 - val_precision_6: 0.8412 - val_recall_6: 0.7767 - val_auc_6: 0.9598\n",
      "Epoch 11/15\n",
      "900/900 [==============================] - 45s 50ms/sample - loss: 0.6871 - precision_6: 0.7893 - recall_6: 0.7367 - auc_6: 0.9038 - val_loss: 0.4679 - val_precision_6: 0.8375 - val_recall_6: 0.7733 - val_auc_6: 0.9397\n",
      "Epoch 12/15\n",
      "900/900 [==============================] - 36s 40ms/sample - loss: 0.3940 - precision_6: 0.8520 - recall_6: 0.7933 - auc_6: 0.9570 - val_loss: 0.3449 - val_precision_6: 0.8613 - val_recall_6: 0.7867 - val_auc_6: 0.9675\n",
      "Epoch 13/15\n",
      "900/900 [==============================] - 36s 40ms/sample - loss: 0.3327 - precision_6: 0.9089 - recall_6: 0.8422 - auc_6: 0.9727 - val_loss: 0.2387 - val_precision_6: 0.9609 - val_recall_6: 0.9000 - val_auc_6: 0.9861\n",
      "Epoch 14/15\n",
      "900/900 [==============================] - 36s 40ms/sample - loss: 0.2560 - precision_6: 0.9401 - recall_6: 0.8889 - auc_6: 0.9831 - val_loss: 0.2015 - val_precision_6: 0.9577 - val_recall_6: 0.9067 - val_auc_6: 0.9891\n",
      "Epoch 15/15\n",
      "900/900 [==============================] - 39s 43ms/sample - loss: 0.2037 - precision_6: 0.9529 - recall_6: 0.9000 - auc_6: 0.9910 - val_loss: 0.1797 - val_precision_6: 0.9718 - val_recall_6: 0.9200 - val_auc_6: 0.9906\n"
     ]
    }
   ],
   "source": [
    "model, history  = design_model(X_train,y_train, X_val,y_val, epochs=15)"
   ]
  },
  {
   "cell_type": "code",
   "execution_count": 44,
   "metadata": {},
   "outputs": [
    {
     "name": "stdout",
     "output_type": "stream",
     "text": [
      "300/300 [==============================] - 2s 6ms/sample\n"
     ]
    }
   ],
   "source": [
    "pred = model.predict(X_test, batch_size=64, verbose=1)\n",
    "y_pred = binary_series(pred)\n",
    "true_class, pred_class = predict_classes(y_test, y_pred)"
   ]
  },
  {
   "cell_type": "code",
   "execution_count": 45,
   "metadata": {},
   "outputs": [
    {
     "data": {
      "text/plain": [
       "<AxesSubplot:>"
      ]
     },
     "execution_count": 45,
     "metadata": {},
     "output_type": "execute_result"
    },
    {
     "data": {
      "image/png": "[encoded data removed]",
      "text/plain": [
       "<Figure size 720x576 with 2 Axes>"
      ]
     },
     "metadata": {
      "needs_background": "light"
     },
     "output_type": "display_data"
    }
   ],
   "source": [
    "confus_matrix(true_class[:len(pred_class)], pred_class)"
   ]
  },
  {
   "cell_type": "code",
   "execution_count": 47,
   "metadata": {},
   "outputs": [
    {
     "data": {
      "image/png": "[encoded data removed]",
      "text/plain": [
       "<Figure size 720x432 with 1 Axes>"
      ]
     },
     "metadata": {
      "needs_background": "light"
     },
     "output_type": "display_data"
    }
   ],
   "source": [
    "f_score_plot(history, pr='precision_6', rec='recall_6', epochs=15)"
   ]
  },
  {
   "cell_type": "markdown",
   "metadata": {},
   "source": [
    "# 5. review"
   ]
  },
  {
   "cell_type": "markdown",
   "metadata": {},
   "source": [
    "Данная модель показала себя в достаточной степени эффективно: как в случае с обучением только по токам КЗ, так и по всем снятым параметрам режима рекуррентная сеть обучилась и справилась с прогнозированием на тестировочной выборке успешно."
   ]
  }
 ],
 "metadata": {
  "kernelspec": {
   "display_name": "Python 3",
   "language": "python",
   "name": "python3"
  },
  "language_info": {
   "codemirror_mode": {
    "name": "ipython",
    "version": 3
   },
   "file_extension": ".py",
   "mimetype": "text/x-python",
   "name": "python",
   "nbconvert_exporter": "python",
   "pygments_lexer": "ipython3",
   "version": "3.7.10"
  }
 },
 "nbformat": 4,
 "nbformat_minor": 4
}
