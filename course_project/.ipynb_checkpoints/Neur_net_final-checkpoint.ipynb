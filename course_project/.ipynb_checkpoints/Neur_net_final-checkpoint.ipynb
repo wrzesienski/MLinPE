{
 "cells": [
  {
   "cell_type": "code",
   "execution_count": 1,
   "metadata": {},
   "outputs": [],
   "source": [
    "#!pip install tensorflow\n",
    "import numpy as np\n",
    "import pandas as pd\n",
    "import csv\n",
    "import sys\n",
    "import matplotlib.pyplot as plt\n",
    "from sklearn import model_selection\n",
    "\n",
    "from tensorflow.keras.models import Sequential\n",
    "from tensorflow.keras.layers import Dense, Embedding, Conv1D, MaxPooling1D, Flatten, Activation\n",
    "\n",
    "from sklearn.preprocessing import StandardScaler\n",
    "\n",
    "from sklearn.metrics import accuracy_score, confusion_matrix\n",
    "\n",
    "from tensorflow.keras import utils\n",
    "\n",
    "from tensorflow.python.keras.utils import np_utils\n",
    "\n",
    "from sklearn.metrics import confusion_matrix, roc_curve, auc"
   ]
  },
  {
   "cell_type": "code",
   "execution_count": 2,
   "metadata": {},
   "outputs": [],
   "source": [
    "path = \"C:\\\\Users\\\\Misha\\\\Desktop\\\\Применение ИИ в ЭЭ\\\\Курсач\\\\Данные_для_обучения\\\\\"\n",
    "\n",
    "data_name = \"Marks9.csv\"\n",
    "#data_name = \"RandomMarks4.csv\"\n",
    "\n",
    "marks_path = path + data_name\n",
    "marks = pd.read_csv(marks_path)\n",
    "\n",
    "\n",
    "answers_name = \"Answers9.csv\"\n",
    "#answers_name = \"RandomAnswers4.csv\"\n",
    "\n",
    "answers_path = path + answers_name\n",
    "answers =  pd.read_csv(answers_path)\n",
    "\n",
    "markData = pd.DataFrame(marks)\n",
    "goalData = pd.DataFrame(answers)"
   ]
  },
  {
   "cell_type": "code",
   "execution_count": null,
   "metadata": {},
   "outputs": [],
   "source": []
  },
  {
   "cell_type": "code",
   "execution_count": 3,
   "metadata": {},
   "outputs": [],
   "source": [
    "# обучающая и тестовая выборки\n",
    "X_train, X_test, y_train, y_test = model_selection.train_test_split(markData, goalData, test_size = 0.2)\n",
    "\n",
    "X_train, X_val, y_train, y_val = model_selection.train_test_split(markData, goalData, test_size = 0.2)\n"
   ]
  },
  {
   "cell_type": "code",
   "execution_count": null,
   "metadata": {},
   "outputs": [],
   "source": []
  },
  {
   "cell_type": "code",
   "execution_count": 4,
   "metadata": {},
   "outputs": [],
   "source": [
    "X_train = X_train.to_numpy(dtype=('float32'))\n",
    "X_test = X_test.to_numpy(dtype=('float32'))\n",
    "X_val = X_val.to_numpy(dtype=('float32'))"
   ]
  },
  {
   "cell_type": "markdown",
   "metadata": {},
   "source": [
    "<b>Нормализация</b>"
   ]
  },
  {
   "cell_type": "code",
   "execution_count": 5,
   "metadata": {},
   "outputs": [],
   "source": [
    "for row in X_train:\n",
    "    mean = row.mean(axis=0) # считаем среднее\n",
    "    row -= mean\n",
    "    std = row.std(axis=0) # стандартное отклонение \n",
    "    row /= std"
   ]
  },
  {
   "cell_type": "code",
   "execution_count": 6,
   "metadata": {},
   "outputs": [],
   "source": [
    "for row in X_test:\n",
    "    mean = row.mean(axis=0)\n",
    "    row -= mean\n",
    "    std = row.std(axis=0) \n",
    "    row /= std"
   ]
  },
  {
   "cell_type": "code",
   "execution_count": 7,
   "metadata": {},
   "outputs": [],
   "source": [
    "for row in X_val:\n",
    "    mean = row.mean(axis=0) \n",
    "    row -= mean\n",
    "    std = row.std(axis=0) \n",
    "    row /= std"
   ]
  },
  {
   "cell_type": "code",
   "execution_count": 8,
   "metadata": {},
   "outputs": [
    {
     "data": {
      "text/plain": [
       "array([[1.0951916 , 1.1474686 , 1.167426  , ..., 0.95312834, 0.98199296,\n",
       "        1.0269663 ],\n",
       "       [0.8111546 , 0.860913  , 0.9090374 , ..., 0.65300983, 0.7071069 ,\n",
       "        0.7598584 ],\n",
       "       [0.521666  , 0.5630338 , 0.5926757 , ..., 0.2671053 , 0.36588204,\n",
       "        0.39001822],\n",
       "       ...,\n",
       "       [1.3890091 , 1.2728723 , 1.2279227 , ..., 1.2122953 , 1.1375712 ,\n",
       "        1.2502124 ],\n",
       "       [1.355155  , 1.3651087 , 1.3342222 , ..., 1.2566271 , 1.2806351 ,\n",
       "        1.3636974 ],\n",
       "       [1.3447946 , 1.3708786 , 1.2493147 , ..., 1.3964628 , 1.2850201 ,\n",
       "        1.3161646 ]], dtype=float32)"
      ]
     },
     "execution_count": 8,
     "metadata": {},
     "output_type": "execute_result"
    }
   ],
   "source": [
    "X_train"
   ]
  },
  {
   "cell_type": "code",
   "execution_count": 9,
   "metadata": {},
   "outputs": [
    {
     "data": {
      "text/plain": [
       "(15239, 7200)"
      ]
     },
     "execution_count": 9,
     "metadata": {},
     "output_type": "execute_result"
    }
   ],
   "source": [
    "X_train.shape"
   ]
  },
  {
   "cell_type": "code",
   "execution_count": 10,
   "metadata": {},
   "outputs": [
    {
     "data": {
      "text/plain": [
       "(15239, 1)"
      ]
     },
     "execution_count": 10,
     "metadata": {},
     "output_type": "execute_result"
    }
   ],
   "source": [
    "y_train.shape"
   ]
  },
  {
   "cell_type": "code",
   "execution_count": 11,
   "metadata": {},
   "outputs": [
    {
     "data": {
      "text/html": [
       "<div>\n",
       "<style scoped>\n",
       "    .dataframe tbody tr th:only-of-type {\n",
       "        vertical-align: middle;\n",
       "    }\n",
       "\n",
       "    .dataframe tbody tr th {\n",
       "        vertical-align: top;\n",
       "    }\n",
       "\n",
       "    .dataframe thead th {\n",
       "        text-align: right;\n",
       "    }\n",
       "</style>\n",
       "<table border=\"1\" class=\"dataframe\">\n",
       "  <thead>\n",
       "    <tr style=\"text-align: right;\">\n",
       "      <th></th>\n",
       "      <th>False</th>\n",
       "    </tr>\n",
       "  </thead>\n",
       "  <tbody>\n",
       "    <tr>\n",
       "      <th>1915</th>\n",
       "      <td>False</td>\n",
       "    </tr>\n",
       "    <tr>\n",
       "      <th>5513</th>\n",
       "      <td>False</td>\n",
       "    </tr>\n",
       "    <tr>\n",
       "      <th>806</th>\n",
       "      <td>False</td>\n",
       "    </tr>\n",
       "    <tr>\n",
       "      <th>10457</th>\n",
       "      <td>True</td>\n",
       "    </tr>\n",
       "    <tr>\n",
       "      <th>17943</th>\n",
       "      <td>True</td>\n",
       "    </tr>\n",
       "    <tr>\n",
       "      <th>...</th>\n",
       "      <td>...</td>\n",
       "    </tr>\n",
       "    <tr>\n",
       "      <th>13150</th>\n",
       "      <td>True</td>\n",
       "    </tr>\n",
       "    <tr>\n",
       "      <th>12514</th>\n",
       "      <td>True</td>\n",
       "    </tr>\n",
       "    <tr>\n",
       "      <th>5373</th>\n",
       "      <td>False</td>\n",
       "    </tr>\n",
       "    <tr>\n",
       "      <th>13817</th>\n",
       "      <td>True</td>\n",
       "    </tr>\n",
       "    <tr>\n",
       "      <th>9585</th>\n",
       "      <td>True</td>\n",
       "    </tr>\n",
       "  </tbody>\n",
       "</table>\n",
       "<p>15239 rows × 1 columns</p>\n",
       "</div>"
      ],
      "text/plain": [
       "       False\n",
       "1915   False\n",
       "5513   False\n",
       "806    False\n",
       "10457   True\n",
       "17943   True\n",
       "...      ...\n",
       "13150   True\n",
       "12514   True\n",
       "5373   False\n",
       "13817   True\n",
       "9585    True\n",
       "\n",
       "[15239 rows x 1 columns]"
      ]
     },
     "execution_count": 11,
     "metadata": {},
     "output_type": "execute_result"
    }
   ],
   "source": [
    "y_train"
   ]
  },
  {
   "cell_type": "code",
   "execution_count": 12,
   "metadata": {},
   "outputs": [],
   "source": [
    "y_test_copy = y_test\n",
    "y_val_copy = y_val\n",
    "y_test_copy = y_test_copy.applymap(lambda x: 1 if x == True else 0)\n",
    "y_val_copy = y_val_copy.applymap(lambda x: 1 if x == True else 0)\n",
    "\n",
    "\n",
    "\n",
    "y_train = np_utils.to_categorical(y_train, 2)\n",
    "y_test = np_utils.to_categorical(y_test, 2)\n",
    "y_val  = np_utils.to_categorical(y_val, 2)"
   ]
  },
  {
   "cell_type": "code",
   "execution_count": 13,
   "metadata": {},
   "outputs": [
    {
     "data": {
      "text/plain": [
       "(3810, 1)"
      ]
     },
     "execution_count": 13,
     "metadata": {},
     "output_type": "execute_result"
    }
   ],
   "source": [
    "y_test_copy.shape"
   ]
  },
  {
   "cell_type": "code",
   "execution_count": 14,
   "metadata": {},
   "outputs": [
    {
     "name": "stdout",
     "output_type": "stream",
     "text": [
      "(15239, 2)\n"
     ]
    }
   ],
   "source": [
    "print(y_train.shape)"
   ]
  },
  {
   "cell_type": "code",
   "execution_count": 15,
   "metadata": {},
   "outputs": [
    {
     "name": "stdout",
     "output_type": "stream",
     "text": [
      "(15239, 7200)\n"
     ]
    }
   ],
   "source": [
    "print(X_train.shape)"
   ]
  },
  {
   "cell_type": "code",
   "execution_count": null,
   "metadata": {},
   "outputs": [],
   "source": []
  },
  {
   "cell_type": "code",
   "execution_count": null,
   "metadata": {},
   "outputs": [],
   "source": []
  },
  {
   "cell_type": "code",
   "execution_count": null,
   "metadata": {},
   "outputs": [],
   "source": []
  },
  {
   "cell_type": "code",
   "execution_count": null,
   "metadata": {},
   "outputs": [],
   "source": []
  },
  {
   "cell_type": "markdown",
   "metadata": {},
   "source": [
    "<b>Создание функции-генератора</b>"
   ]
  },
  {
   "cell_type": "code",
   "execution_count": 16,
   "metadata": {},
   "outputs": [],
   "source": [
    "def generatorNew(X, Y, lookback, delay, min_index, max_index, \n",
    "             shuffle=False, batch_size=50, step=1, k = 0):\n",
    "    number = -1\n",
    "    while 1:\n",
    "        if(shuffle):\n",
    "            number = np.random.randint(len(X)) - 1\n",
    "        else:\n",
    "            number+=1\n",
    "        if(number > Y.shape[0] - 1):\n",
    "            number = 0\n",
    "            \n",
    "        vector = X[number]  # выцепляем случайную осциллограмму\n",
    "        vector = vector.reshape(len(vector),1)\n",
    "        answer = Y[number]\n",
    "\n",
    "        max_index = len(vector) - delay - 1\n",
    "\n",
    "        i = min_index + lookback\n",
    "        \n",
    "        if i + batch_size >= max_index:\n",
    "            rows = np.arange(i, min(i + batch_size, max_index)) # чтобы не вйти за предел последовательности\n",
    "        rows = np.arange(i, min(i + batch_size, max_index))  \n",
    "        i += len(rows)\n",
    "        samples = np.zeros((len(rows), #размерность = batch size\n",
    "                               lookback // step,\n",
    "                               1))\n",
    "        targets = np.zeros((len(rows),Y.shape[1]))\n",
    "\n",
    "        for j, row in enumerate(rows):\n",
    "            indices = range(rows[j] - lookback, rows[j], step)\n",
    "            samples[j] = vector[indices]\n",
    "            \n",
    "            targets[j] = answer\n",
    "\n",
    "        yield samples, targets\n",
    "\n",
    "# окно == входному кол-ву нейроно"
   ]
  },
  {
   "cell_type": "code",
   "execution_count": null,
   "metadata": {},
   "outputs": [],
   "source": []
  },
  {
   "cell_type": "code",
   "execution_count": 17,
   "metadata": {},
   "outputs": [],
   "source": [
    "lookback = 144 \n",
    "step = 1\n",
    "delay = 0\n",
    "batch_size = 1 #50 \n",
    "\n",
    "train_gen = generatorNew(X_train, y_train,               \n",
    "                      lookback=lookback, \n",
    "                      delay=delay, \n",
    "                      min_index=0, \n",
    "                      max_index = None, \n",
    "                      shuffle = True,                      \n",
    "                      step=step,                      \n",
    "                      batch_size=batch_size)\n",
    "\n",
    "\n",
    "val_gen = generatorNew(X_val, y_val,\n",
    "                    lookback=lookback,  \n",
    "                    delay=delay, \n",
    "                    \n",
    "                    min_index = 0,    \n",
    "    \n",
    "                    max_index = None,                    \n",
    "                    step=step,                    \n",
    "                    batch_size=batch_size)\n",
    "\n",
    "\n",
    "test_gen = generatorNew(X_test, y_test,                     \n",
    "                     lookback=lookback,                   \n",
    "                     delay=delay, \n",
    "                     \n",
    "                     min_index = 0,\n",
    "                     \n",
    "                     max_index = None,    \n",
    "                     \n",
    "                     step=step,                \n",
    "                     batch_size=batch_size)\n"
   ]
  },
  {
   "cell_type": "markdown",
   "metadata": {},
   "source": [
    "<b>Задание архитектуры сети</b>"
   ]
  },
  {
   "cell_type": "code",
   "execution_count": 18,
   "metadata": {},
   "outputs": [],
   "source": [
    "NB_CLASSES = y_train.shape[1]\n",
    "INPUT_SHAPE = (X_train.shape[1],1)"
   ]
  },
  {
   "cell_type": "code",
   "execution_count": 19,
   "metadata": {},
   "outputs": [
    {
     "data": {
      "text/plain": [
       "2"
      ]
     },
     "execution_count": 19,
     "metadata": {},
     "output_type": "execute_result"
    }
   ],
   "source": [
    "NB_CLASSES"
   ]
  },
  {
   "cell_type": "code",
   "execution_count": 20,
   "metadata": {},
   "outputs": [
    {
     "name": "stdout",
     "output_type": "stream",
     "text": [
      "Model: \"sequential\"\n",
      "_________________________________________________________________\n",
      "Layer (type)                 Output Shape              Param #   \n",
      "=================================================================\n",
      "conv1d (Conv1D)              (None, 141, 40)           200       \n",
      "_________________________________________________________________\n",
      "max_pooling1d (MaxPooling1D) (None, 35, 40)            0         \n",
      "_________________________________________________________________\n",
      "conv1d_1 (Conv1D)            (None, 32, 80)            12880     \n",
      "_________________________________________________________________\n",
      "max_pooling1d_1 (MaxPooling1 (None, 8, 80)             0         \n",
      "_________________________________________________________________\n",
      "flatten (Flatten)            (None, 640)               0         \n",
      "_________________________________________________________________\n",
      "dense (Dense)                (None, 32)                20512     \n",
      "_________________________________________________________________\n",
      "dense_1 (Dense)              (None, 2)                 66        \n",
      "_________________________________________________________________\n",
      "activation (Activation)      (None, 2)                 0         \n",
      "=================================================================\n",
      "Total params: 33,658\n",
      "Trainable params: 33,658\n",
      "Non-trainable params: 0\n",
      "_________________________________________________________________\n"
     ]
    }
   ],
   "source": [
    "model = Sequential()\n",
    "\n",
    "# Свёрточный + пуллинговый слой\n",
    "model.add(Conv1D(40, 4,  activation='relu', input_shape=(lookback//step, 1 ) ))\n",
    "model.add(MaxPooling1D(pool_size=4))\n",
    "\n",
    "model.add(Conv1D(80, 4, activation='relu'))\n",
    "model.add(MaxPooling1D(pool_size=4))\n",
    "\n",
    "# переформатирование данных\n",
    "model.add(Flatten())\n",
    "\n",
    "# полносвязный слой для классификации\n",
    "model.add(Dense(32, activation='relu'))\n",
    "model.add(Dense(NB_CLASSES))\n",
    "model.add(Activation('softmax'))\n",
    "\n",
    "model.summary()"
   ]
  },
  {
   "cell_type": "code",
   "execution_count": 21,
   "metadata": {},
   "outputs": [
    {
     "name": "stdout",
     "output_type": "stream",
     "text": [
      "WARNING:tensorflow:From <ipython-input-21-4dd88cb3f112>:5: Model.fit_generator (from tensorflow.python.keras.engine.training) is deprecated and will be removed in a future version.\n",
      "Instructions for updating:\n",
      "Please use Model.fit, which supports generators.\n",
      "Epoch 1/20\n",
      "7619/7619 [==============================] - 12s 2ms/step - loss: 0.1491 - precision: 0.9342 - recall: 0.9342 - accuracy: 0.9342 - auc: 0.9864 - val_loss: 0.1128 - val_precision: 0.9667 - val_recall: 0.9667 - val_accuracy: 0.9667 - val_auc: 0.9962\n",
      "Epoch 2/20\n",
      "7619/7619 [==============================] - 11s 1ms/step - loss: 0.1045 - precision: 0.9542 - recall: 0.9542 - accuracy: 0.9542 - auc: 0.9933 - val_loss: 0.0928 - val_precision: 0.9617 - val_recall: 0.9617 - val_accuracy: 0.9617 - val_auc: 0.9948\n",
      "Epoch 3/20\n",
      "7619/7619 [==============================] - 12s 2ms/step - loss: 0.0776 - precision: 0.9682 - recall: 0.9682 - accuracy: 0.9682 - auc: 0.9964 - val_loss: 0.0663 - val_precision: 0.9733 - val_recall: 0.9733 - val_accuracy: 0.9733 - val_auc: 0.9982\n",
      "Epoch 4/20\n",
      "7619/7619 [==============================] - 12s 2ms/step - loss: 0.0779 - precision: 0.9676 - recall: 0.9676 - accuracy: 0.9676 - auc: 0.9963 - val_loss: 0.0683 - val_precision: 0.9750 - val_recall: 0.9750 - val_accuracy: 0.9750 - val_auc: 0.9975\n",
      "Epoch 5/20\n",
      "7619/7619 [==============================] - 12s 2ms/step - loss: 0.0689 - precision: 0.9735 - recall: 0.9735 - accuracy: 0.9735 - auc: 0.9971 - val_loss: 0.0636 - val_precision: 0.9775 - val_recall: 0.9775 - val_accuracy: 0.9775 - val_auc: 0.9976\n",
      "Epoch 6/20\n",
      "7619/7619 [==============================] - 14s 2ms/step - loss: 0.0745 - precision: 0.9693 - recall: 0.9693 - accuracy: 0.9693 - auc: 0.9966 - val_loss: 0.0622 - val_precision: 0.9717 - val_recall: 0.9717 - val_accuracy: 0.9717 - val_auc: 0.9982\n",
      "Epoch 7/20\n",
      "7619/7619 [==============================] - 12s 2ms/step - loss: 0.0723 - precision: 0.9722 - recall: 0.9722 - accuracy: 0.9722 - auc: 0.9965 - val_loss: 0.0616 - val_precision: 0.9767 - val_recall: 0.9767 - val_accuracy: 0.9767 - val_auc: 0.9974\n",
      "Epoch 8/20\n",
      "7619/7619 [==============================] - 13s 2ms/step - loss: 0.0695 - precision: 0.9706 - recall: 0.9706 - accuracy: 0.9706 - auc: 0.9970 - val_loss: 0.0646 - val_precision: 0.9725 - val_recall: 0.9725 - val_accuracy: 0.9725 - val_auc: 0.9978\n",
      "Epoch 9/20\n",
      "7619/7619 [==============================] - 14s 2ms/step - loss: 0.0698 - precision: 0.9720 - recall: 0.9720 - accuracy: 0.9720 - auc: 0.9968 - val_loss: 0.0654 - val_precision: 0.9758 - val_recall: 0.9758 - val_accuracy: 0.9758 - val_auc: 0.9979\n",
      "Epoch 10/20\n",
      "7619/7619 [==============================] - 12s 2ms/step - loss: 0.0687 - precision: 0.9732 - recall: 0.9732 - accuracy: 0.9732 - auc: 0.9970 - val_loss: 0.0578 - val_precision: 0.9800 - val_recall: 0.9800 - val_accuracy: 0.9800 - val_auc: 0.9978\n",
      "Epoch 11/20\n",
      "7619/7619 [==============================] - 12s 2ms/step - loss: 0.0651 - precision: 0.9744 - recall: 0.9744 - accuracy: 0.9744 - auc: 0.9972 - val_loss: 0.0658 - val_precision: 0.9708 - val_recall: 0.9708 - val_accuracy: 0.9708 - val_auc: 0.9974\n",
      "Epoch 12/20\n",
      "7619/7619 [==============================] - 12s 2ms/step - loss: 0.0663 - precision: 0.9740 - recall: 0.9740 - accuracy: 0.9740 - auc: 0.9970 - val_loss: 0.0512 - val_precision: 0.9808 - val_recall: 0.9808 - val_accuracy: 0.9808 - val_auc: 0.9984\n",
      "Epoch 13/20\n",
      "7619/7619 [==============================] - 12s 2ms/step - loss: 0.0615 - precision: 0.9773 - recall: 0.9773 - accuracy: 0.9773 - auc: 0.9972 - val_loss: 0.0616 - val_precision: 0.9817 - val_recall: 0.9817 - val_accuracy: 0.9817 - val_auc: 0.9982\n",
      "Epoch 14/20\n",
      "7619/7619 [==============================] - 12s 2ms/step - loss: 0.0591 - precision: 0.9760 - recall: 0.9760 - accuracy: 0.9760 - auc: 0.9977 - val_loss: 0.0651 - val_precision: 0.9717 - val_recall: 0.9717 - val_accuracy: 0.9717 - val_auc: 0.9972\n",
      "Epoch 15/20\n",
      "7619/7619 [==============================] - 12s 2ms/step - loss: 0.0615 - precision: 0.9766 - recall: 0.9766 - accuracy: 0.9766 - auc: 0.9971 - val_loss: 0.0500 - val_precision: 0.9808 - val_recall: 0.9808 - val_accuracy: 0.9808 - val_auc: 0.9982\n",
      "Epoch 16/20\n",
      "7619/7619 [==============================] - 15s 2ms/step - loss: 0.0642 - precision: 0.9736 - recall: 0.9736 - accuracy: 0.9736 - auc: 0.9971 - val_loss: 0.0535 - val_precision: 0.9758 - val_recall: 0.9758 - val_accuracy: 0.9758 - val_auc: 0.9982\n",
      "Epoch 17/20\n",
      "7619/7619 [==============================] - 14s 2ms/step - loss: 0.0652 - precision: 0.9749 - recall: 0.9749 - accuracy: 0.9749 - auc: 0.9970 - val_loss: 0.0673 - val_precision: 0.9667 - val_recall: 0.9667 - val_accuracy: 0.9667 - val_auc: 0.9972\n",
      "Epoch 18/20\n",
      "7619/7619 [==============================] - 13s 2ms/step - loss: 0.0631 - precision: 0.9778 - recall: 0.9778 - accuracy: 0.9778 - auc: 0.9972 - val_loss: 0.0547 - val_precision: 0.9808 - val_recall: 0.9808 - val_accuracy: 0.9808 - val_auc: 0.9977\n",
      "Epoch 19/20\n",
      "7619/7619 [==============================] - 13s 2ms/step - loss: 0.0523 - precision: 0.9815 - recall: 0.9815 - accuracy: 0.9815 - auc: 0.9980 - val_loss: 0.0497 - val_precision: 0.9792 - val_recall: 0.9792 - val_accuracy: 0.9792 - val_auc: 0.9986\n",
      "Epoch 20/20\n",
      "7619/7619 [==============================] - 13s 2ms/step - loss: 0.0636 - precision: 0.9747 - recall: 0.9747 - accuracy: 0.9747 - auc: 0.9972 - val_loss: 0.1038 - val_precision: 0.9667 - val_recall: 0.9667 - val_accuracy: 0.9667 - val_auc: 0.9927\n"
     ]
    }
   ],
   "source": [
    "#loss='binary_crossentropy'\n",
    "EPOCHS = 20\n",
    "model.compile(optimizer='adam', loss='binary_crossentropy', metrics=['Precision', 'Recall','accuracy', 'AUC'])\n",
    "\n",
    "history = model.fit_generator(#f_train_gen(),         \n",
    "                             train_gen,\n",
    "                             steps_per_epoch=len(y_train)//2,#//2, # число объектов в обучении    \n",
    "                             epochs=EPOCHS, \n",
    "                             validation_data = val_gen,#f_val_gen(),       \n",
    "                             validation_steps = 1200 ) #len(y_val))"
   ]
  },
  {
   "cell_type": "code",
   "execution_count": 22,
   "metadata": {},
   "outputs": [],
   "source": [
    "#print(next(train_gen)[1].shape)"
   ]
  },
  {
   "cell_type": "code",
   "execution_count": 23,
   "metadata": {},
   "outputs": [],
   "source": [
    "f1_score_list_train = []\n",
    "f1_score_list_test = []\n",
    "for i in range(EPOCHS):\n",
    "    f1_score_list_train.append(2 * history.history['val_precision'][i] * history.history['val_recall'][i] / (history.history['val_precision'][i] + history.history['val_recall'][i]))\n",
    "    f1_score_list_test.append(2 * history.history['val_precision'][i] * history.history['val_recall'][i] / (history.history['val_precision'][i] + history.history['val_recall'][i]))"
   ]
  },
  {
   "cell_type": "code",
   "execution_count": 24,
   "metadata": {},
   "outputs": [
    {
     "data": {
      "image/png": "[encoded data removed]",
      "text/plain": [
       "<Figure size 720x432 with 1 Axes>"
      ]
     },
     "metadata": {
      "needs_background": "light"
     },
     "output_type": "display_data"
    }
   ],
   "source": [
    "plt.figure(figsize=(10,6))\n",
    "plt.plot(range(0,EPOCHS), f1_score_list_test)#, label = 'Accuracy')\n",
    "plt.xlabel('EPOCHS')\n",
    "plt.ylabel('f1_score на валидационной выборке')\n",
    "plt.grid()\n",
    "plt.legend(['test_f1_score'], loc = 'upper left')\n",
    "plt.show()"
   ]
  },
  {
   "cell_type": "code",
   "execution_count": 25,
   "metadata": {},
   "outputs": [],
   "source": [
    "f1_score_list_train = []\n",
    "f1_score_list_test = []\n",
    "for i in range(EPOCHS):\n",
    "    f1_score_list_train.append(2 * history.history['precision'][i] * history.history['recall'][i] / (history.history['precision'][i] + history.history['recall'][i]))\n",
    "    f1_score_list_test.append(2 * history.history['precision'][i] * history.history['recall'][i] / (history.history['precision'][i] + history.history['recall'][i]))"
   ]
  },
  {
   "cell_type": "code",
   "execution_count": 26,
   "metadata": {},
   "outputs": [
    {
     "data": {
      "image/png": "[encoded data removed]",
      "text/plain": [
       "<Figure size 720x432 with 1 Axes>"
      ]
     },
     "metadata": {
      "needs_background": "light"
     },
     "output_type": "display_data"
    }
   ],
   "source": [
    "plt.figure(figsize=(10,6))\n",
    "plt.plot(range(0,EPOCHS), f1_score_list_test)#, label = 'Accuracy')\n",
    "plt.xlabel('EPOCHS')\n",
    "plt.ylabel('f1_score')\n",
    "plt.grid()\n",
    "plt.legend(['test_f1_score на обучающей выборке'], loc = 'upper left')\n",
    "plt.show()"
   ]
  },
  {
   "cell_type": "code",
   "execution_count": null,
   "metadata": {},
   "outputs": [],
   "source": []
  },
  {
   "cell_type": "code",
   "execution_count": null,
   "metadata": {},
   "outputs": [],
   "source": []
  },
  {
   "cell_type": "code",
   "execution_count": 27,
   "metadata": {},
   "outputs": [],
   "source": [
    "def getLogicalArray(array):\n",
    "    new_array = np.zeros(array.shape[0])\n",
    "    for i in range(len(array)):\n",
    "        if array[i][0]>array[i][1]:\n",
    "            new_array[i] = 0\n",
    "        else:\n",
    "            new_array[i] = 1\n",
    "    return new_array"
   ]
  },
  {
   "cell_type": "code",
   "execution_count": 28,
   "metadata": {},
   "outputs": [],
   "source": [
    "def get_AUC(y_added_copy, y_pred_new, number_of_samples):\n",
    "    fpr, tpr, threshold = roc_curve(y_added_copy[:number_of_samples], y_pred_new[:number_of_samples])\n",
    "    roc_auc = auc(fpr,tpr)\n",
    "    plt.title('Receiver Operating Characteristic')\n",
    "    plt.plot(fpr, tpr, 'b', label='AUC = %0.2f'%roc_auc)\n",
    "    plt.legend(loc = 'lower right')\n",
    "    plt.plot([0,1],[0,1],'r--')\n",
    "    plt.xlim([0,1])\n",
    "    plt.ylim([0,1])\n",
    "    plt.ylabel('True Positive Rate')\n",
    "    plt.xlabel('False Positive Rate')\n",
    "    plt.grid('on')\n",
    "    plt.show()"
   ]
  },
  {
   "cell_type": "code",
   "execution_count": null,
   "metadata": {},
   "outputs": [],
   "source": []
  },
  {
   "cell_type": "code",
   "execution_count": 29,
   "metadata": {},
   "outputs": [],
   "source": [
    "number_of_samples = len(y_test)"
   ]
  },
  {
   "cell_type": "code",
   "execution_count": null,
   "metadata": {},
   "outputs": [],
   "source": []
  },
  {
   "cell_type": "code",
   "execution_count": null,
   "metadata": {},
   "outputs": [],
   "source": []
  },
  {
   "cell_type": "markdown",
   "metadata": {},
   "source": [
    "<b>Работа модели на тестовом наборе данных</b>"
   ]
  },
  {
   "cell_type": "code",
   "execution_count": 30,
   "metadata": {},
   "outputs": [
    {
     "name": "stdout",
     "output_type": "stream",
     "text": [
      "WARNING:tensorflow:From <ipython-input-30-bddd1bd6c2ad>:1: Model.predict_generator (from tensorflow.python.keras.engine.training) is deprecated and will be removed in a future version.\n",
      "Instructions for updating:\n",
      "Please use Model.predict, which supports generators.\n"
     ]
    }
   ],
   "source": [
    "y_pred = model.predict_generator(test_gen, number_of_samples)"
   ]
  },
  {
   "cell_type": "code",
   "execution_count": 31,
   "metadata": {},
   "outputs": [],
   "source": [
    "y_pred_new = getLogicalArray(y_pred)"
   ]
  },
  {
   "cell_type": "code",
   "execution_count": null,
   "metadata": {},
   "outputs": [],
   "source": []
  },
  {
   "cell_type": "code",
   "execution_count": null,
   "metadata": {},
   "outputs": [],
   "source": []
  },
  {
   "cell_type": "code",
   "execution_count": 32,
   "metadata": {},
   "outputs": [
    {
     "data": {
      "text/html": [
       "<div>\n",
       "<style scoped>\n",
       "    .dataframe tbody tr th:only-of-type {\n",
       "        vertical-align: middle;\n",
       "    }\n",
       "\n",
       "    .dataframe tbody tr th {\n",
       "        vertical-align: top;\n",
       "    }\n",
       "\n",
       "    .dataframe thead th {\n",
       "        text-align: right;\n",
       "    }\n",
       "</style>\n",
       "<table border=\"1\" class=\"dataframe\">\n",
       "  <thead>\n",
       "    <tr style=\"text-align: right;\">\n",
       "      <th></th>\n",
       "      <th>Predicted without PD</th>\n",
       "      <th>Predicted with PD</th>\n",
       "    </tr>\n",
       "  </thead>\n",
       "  <tbody>\n",
       "    <tr>\n",
       "      <th>Actual without PD</th>\n",
       "      <td>1108</td>\n",
       "      <td>149</td>\n",
       "    </tr>\n",
       "    <tr>\n",
       "      <th>Actual with PD</th>\n",
       "      <td>0</td>\n",
       "      <td>2553</td>\n",
       "    </tr>\n",
       "  </tbody>\n",
       "</table>\n",
       "</div>"
      ],
      "text/plain": [
       "                    Predicted without PD  Predicted with PD\n",
       "Actual without PD                   1108                149\n",
       "Actual with PD                         0               2553"
      ]
     },
     "execution_count": 32,
     "metadata": {},
     "output_type": "execute_result"
    }
   ],
   "source": [
    "cf = confusion_matrix(y_test_copy[:number_of_samples], y_pred_new[:number_of_samples])\n",
    "#print(cf)\n",
    "df_confus = pd.DataFrame(data = cf, columns = ['Predicted without PD','Predicted with PD'],\n",
    "                        index = ['Actual without PD ','Actual with PD'])\n",
    "df_confus"
   ]
  },
  {
   "cell_type": "code",
   "execution_count": 33,
   "metadata": {},
   "outputs": [],
   "source": [
    "fpr, tpr, threshold = roc_curve(y_test_copy[:number_of_samples], y_pred_new[:number_of_samples])"
   ]
  },
  {
   "cell_type": "code",
   "execution_count": 34,
   "metadata": {},
   "outputs": [],
   "source": [
    "roc_auc = auc(fpr,tpr)"
   ]
  },
  {
   "cell_type": "code",
   "execution_count": 35,
   "metadata": {},
   "outputs": [
    {
     "data": {
      "image/png": "[encoded data removed]",
      "text/plain": [
       "<Figure size 432x288 with 1 Axes>"
      ]
     },
     "metadata": {
      "needs_background": "light"
     },
     "output_type": "display_data"
    }
   ],
   "source": [
    "plt.title('Receiver Operating Characteristic')\n",
    "plt.plot(fpr, tpr, 'b', label='AUC = %0.2f'%roc_auc)\n",
    "plt.legend(loc = 'lower right')\n",
    "plt.plot([0,1],[0,1],'r--')\n",
    "plt.xlim([0,1])\n",
    "plt.ylim([0,1])\n",
    "plt.ylabel('True Positive Rate')\n",
    "plt.xlabel('False Positive Rate')\n",
    "plt.grid('on')\n",
    "plt.show()"
   ]
  },
  {
   "cell_type": "code",
   "execution_count": null,
   "metadata": {},
   "outputs": [],
   "source": []
  },
  {
   "cell_type": "code",
   "execution_count": null,
   "metadata": {},
   "outputs": [],
   "source": []
  },
  {
   "cell_type": "code",
   "execution_count": null,
   "metadata": {},
   "outputs": [],
   "source": []
  },
  {
   "cell_type": "markdown",
   "metadata": {},
   "source": [
    "<b>Дополнительный проверочный набор данных №1</b>"
   ]
  },
  {
   "cell_type": "code",
   "execution_count": 36,
   "metadata": {},
   "outputs": [],
   "source": [
    "path = \"C:\\\\Users\\\\Misha\\\\Desktop\\\\Применение ИИ в ЭЭ\\\\Курсач\\\\Данные_для_обучения\\\\\"\n",
    "#add_marks_name = \"Marks1.csv\"\n",
    "add_marks_name = \"RandomMarks.csv\"\n",
    "\n",
    "X_added_test_path = path + add_marks_name\n",
    "X_added = pd.read_csv(X_added_test_path)\n",
    "\n",
    "#add_answers_name = \"Answers1.csv\"\n",
    "add_answers_name = \"RandomAnswers.csv\"\n",
    "\n",
    "y_added_test_path = path + add_answers_name\n",
    "y_added =  pd.read_csv(y_added_test_path)\n",
    "\n",
    "\n",
    "X_added = pd.DataFrame(X_added)\n",
    "y_added = pd.DataFrame(y_added)"
   ]
  },
  {
   "cell_type": "code",
   "execution_count": 37,
   "metadata": {},
   "outputs": [],
   "source": [
    "X_added = X_added.to_numpy(dtype=('float32'))\n"
   ]
  },
  {
   "cell_type": "code",
   "execution_count": 38,
   "metadata": {},
   "outputs": [],
   "source": [
    "for row in X_added:\n",
    "    mean = row.mean(axis=0) # считаем среднее\n",
    "    row -= mean\n",
    "    std = row.std(axis=0) #\n",
    "    row /= std\n",
    "    \n"
   ]
  },
  {
   "cell_type": "code",
   "execution_count": 39,
   "metadata": {},
   "outputs": [],
   "source": [
    "y_added_copy = y_added\n",
    "\n",
    "y_added_copy = y_added_copy.applymap(lambda x: 1 if x == True else 0)\n",
    "\n",
    "y_added = np_utils.to_categorical(y_added, 2)\n"
   ]
  },
  {
   "cell_type": "code",
   "execution_count": 40,
   "metadata": {},
   "outputs": [],
   "source": [
    "added_gen = generatorNew(X_added, y_added,                     \n",
    "                     lookback=lookback,                   \n",
    "                     delay=delay, \n",
    "                     \n",
    "                     min_index = 0,\n",
    "                     \n",
    "                     max_index = None,    \n",
    "                     \n",
    "                     step=step,                \n",
    "                     batch_size=batch_size)\n"
   ]
  },
  {
   "cell_type": "code",
   "execution_count": 41,
   "metadata": {},
   "outputs": [],
   "source": [
    "number_of_samples = len(y_added_copy)"
   ]
  },
  {
   "cell_type": "code",
   "execution_count": 42,
   "metadata": {},
   "outputs": [],
   "source": [
    "y_pred = model.predict_generator(added_gen, number_of_samples)"
   ]
  },
  {
   "cell_type": "code",
   "execution_count": 43,
   "metadata": {},
   "outputs": [],
   "source": [
    "y_pred_new = getLogicalArray(y_pred)"
   ]
  },
  {
   "cell_type": "code",
   "execution_count": 44,
   "metadata": {},
   "outputs": [
    {
     "data": {
      "text/plain": [
       "array([1., 1., 1., 1., 0., 0., 0., 0., 0., 0.])"
      ]
     },
     "execution_count": 44,
     "metadata": {},
     "output_type": "execute_result"
    }
   ],
   "source": [
    "y_pred_new[:10]"
   ]
  },
  {
   "cell_type": "code",
   "execution_count": null,
   "metadata": {},
   "outputs": [],
   "source": []
  },
  {
   "cell_type": "code",
   "execution_count": 45,
   "metadata": {},
   "outputs": [],
   "source": [
    "cf = confusion_matrix(y_added_copy[:number_of_samples], y_pred_new[:number_of_samples])"
   ]
  },
  {
   "cell_type": "code",
   "execution_count": 46,
   "metadata": {},
   "outputs": [
    {
     "name": "stdout",
     "output_type": "stream",
     "text": [
      "(2, 2)\n"
     ]
    }
   ],
   "source": [
    "print(cf.shape)"
   ]
  },
  {
   "cell_type": "code",
   "execution_count": 47,
   "metadata": {},
   "outputs": [
    {
     "data": {
      "text/html": [
       "<div>\n",
       "<style scoped>\n",
       "    .dataframe tbody tr th:only-of-type {\n",
       "        vertical-align: middle;\n",
       "    }\n",
       "\n",
       "    .dataframe tbody tr th {\n",
       "        vertical-align: top;\n",
       "    }\n",
       "\n",
       "    .dataframe thead th {\n",
       "        text-align: right;\n",
       "    }\n",
       "</style>\n",
       "<table border=\"1\" class=\"dataframe\">\n",
       "  <thead>\n",
       "    <tr style=\"text-align: right;\">\n",
       "      <th></th>\n",
       "      <th>Predicted without PD</th>\n",
       "      <th>Predicted with PD</th>\n",
       "    </tr>\n",
       "  </thead>\n",
       "  <tbody>\n",
       "    <tr>\n",
       "      <th>Actual without PD</th>\n",
       "      <td>2010</td>\n",
       "      <td>1114</td>\n",
       "    </tr>\n",
       "    <tr>\n",
       "      <th>Actual with PD</th>\n",
       "      <td>37</td>\n",
       "      <td>3963</td>\n",
       "    </tr>\n",
       "  </tbody>\n",
       "</table>\n",
       "</div>"
      ],
      "text/plain": [
       "                    Predicted without PD  Predicted with PD\n",
       "Actual without PD                   2010               1114\n",
       "Actual with PD                        37               3963"
      ]
     },
     "execution_count": 47,
     "metadata": {},
     "output_type": "execute_result"
    }
   ],
   "source": [
    "cf = confusion_matrix(y_added_copy[:number_of_samples], y_pred_new[:number_of_samples])\n",
    "#print(cf)\n",
    "df_confus = pd.DataFrame(data = cf, columns = ['Predicted without PD','Predicted with PD'],\n",
    "                        index = ['Actual without PD ','Actual with PD'])\n",
    "df_confus"
   ]
  },
  {
   "cell_type": "code",
   "execution_count": 48,
   "metadata": {},
   "outputs": [],
   "source": [
    "fpr, tpr, threshold = roc_curve(y_added_copy[:number_of_samples], y_pred_new[:number_of_samples])"
   ]
  },
  {
   "cell_type": "code",
   "execution_count": 49,
   "metadata": {},
   "outputs": [],
   "source": [
    "roc_auc = auc(fpr,tpr)"
   ]
  },
  {
   "cell_type": "code",
   "execution_count": 50,
   "metadata": {},
   "outputs": [
    {
     "data": {
      "image/png": "[encoded data removed]",
      "text/plain": [
       "<Figure size 432x288 with 1 Axes>"
      ]
     },
     "metadata": {
      "needs_background": "light"
     },
     "output_type": "display_data"
    }
   ],
   "source": [
    "plt.title('Receiver Operating Characteristic')\n",
    "plt.plot(fpr, tpr, 'b', label='AUC = %0.2f'%roc_auc)\n",
    "plt.legend(loc = 'lower right')\n",
    "plt.plot([0,1],[0,1],'r--')\n",
    "plt.xlim([0,1])\n",
    "plt.ylim([0,1])\n",
    "plt.ylabel('True Positive Rate')\n",
    "plt.xlabel('False Positive Rate')\n",
    "plt.grid('on')\n",
    "plt.show()"
   ]
  },
  {
   "cell_type": "code",
   "execution_count": null,
   "metadata": {},
   "outputs": [],
   "source": []
  },
  {
   "cell_type": "markdown",
   "metadata": {},
   "source": [
    "<b>Дополнительный проверочный набор данных №2</b>"
   ]
  },
  {
   "cell_type": "code",
   "execution_count": 96,
   "metadata": {},
   "outputs": [],
   "source": [
    "path = \"C:\\\\Users\\\\Misha\\\\Desktop\\\\Применение ИИ в ЭЭ\\\\Курсач\\\\Данные_для_обучения\\\\\"\n",
    "add_marks_name = \"Marks8.csv\"\n",
    "\n",
    "X_added_test_path = path + add_marks_name\n",
    "X_added = pd.read_csv(X_added_test_path)\n",
    "\n",
    "add_answers_name = \"Answers8.csv\"\n",
    "\n",
    "y_added_test_path = path + add_answers_name\n",
    "y_added =  pd.read_csv(y_added_test_path)\n",
    "\n",
    "\n",
    "X_added = pd.DataFrame(X_added)\n",
    "y_added = pd.DataFrame(y_added)"
   ]
  },
  {
   "cell_type": "code",
   "execution_count": null,
   "metadata": {},
   "outputs": [],
   "source": []
  },
  {
   "cell_type": "code",
   "execution_count": 97,
   "metadata": {},
   "outputs": [
    {
     "data": {
      "text/plain": [
       "(12499, 7200)"
      ]
     },
     "execution_count": 97,
     "metadata": {},
     "output_type": "execute_result"
    }
   ],
   "source": [
    "X_added.shape"
   ]
  },
  {
   "cell_type": "code",
   "execution_count": 98,
   "metadata": {},
   "outputs": [
    {
     "data": {
      "text/plain": [
       "(12499, 1)"
      ]
     },
     "execution_count": 98,
     "metadata": {},
     "output_type": "execute_result"
    }
   ],
   "source": [
    "y_added.shape"
   ]
  },
  {
   "cell_type": "code",
   "execution_count": 99,
   "metadata": {},
   "outputs": [],
   "source": [
    "X_added = X_added.to_numpy(dtype=('float32'))"
   ]
  },
  {
   "cell_type": "code",
   "execution_count": 100,
   "metadata": {},
   "outputs": [],
   "source": [
    "for row in X_added:\n",
    "    mean = row.mean(axis=0) # считаем среднее\n",
    "    row -= mean\n",
    "    std = row.std(axis=0) #\n",
    "    row /= std\n",
    "    "
   ]
  },
  {
   "cell_type": "code",
   "execution_count": 101,
   "metadata": {},
   "outputs": [],
   "source": [
    "y_added_copy = y_added\n",
    "\n",
    "y_added_copy = y_added_copy.applymap(lambda x: 1 if x == True else 0)\n",
    "\n",
    "y_added = np_utils.to_categorical(y_added, 2)\n",
    "\n"
   ]
  },
  {
   "cell_type": "code",
   "execution_count": 102,
   "metadata": {},
   "outputs": [],
   "source": [
    "added_gen = generatorNew(X_added, y_added,                     \n",
    "                     lookback=lookback,                   \n",
    "                     delay=delay, \n",
    "                     \n",
    "                     min_index = 0,\n",
    "                     \n",
    "                     max_index = None,    \n",
    "                     \n",
    "                     step=step,                \n",
    "                     batch_size=batch_size)\n"
   ]
  },
  {
   "cell_type": "code",
   "execution_count": 103,
   "metadata": {},
   "outputs": [],
   "source": [
    "number_of_samples = len(y_added_copy)"
   ]
  },
  {
   "cell_type": "code",
   "execution_count": 104,
   "metadata": {},
   "outputs": [],
   "source": [
    "y_pred = model.predict_generator(added_gen, number_of_samples)"
   ]
  },
  {
   "cell_type": "code",
   "execution_count": 105,
   "metadata": {},
   "outputs": [
    {
     "data": {
      "text/plain": [
       "array([[1.0000000e+00, 5.9799676e-09],\n",
       "       [1.0000000e+00, 5.9799676e-09],\n",
       "       [1.0000000e+00, 5.9799676e-09],\n",
       "       ...,\n",
       "       [1.9523128e-05, 9.9998045e-01],\n",
       "       [1.7640370e-04, 9.9982363e-01],\n",
       "       [2.2684901e-08, 1.0000000e+00]], dtype=float32)"
      ]
     },
     "execution_count": 105,
     "metadata": {},
     "output_type": "execute_result"
    }
   ],
   "source": [
    "y_pred[:12000]"
   ]
  },
  {
   "cell_type": "code",
   "execution_count": 106,
   "metadata": {},
   "outputs": [],
   "source": [
    "y_pred_new = getLogicalArray(y_pred)"
   ]
  },
  {
   "cell_type": "code",
   "execution_count": 107,
   "metadata": {},
   "outputs": [
    {
     "data": {
      "text/plain": [
       "array([0., 0., 0., 0., 0., 0., 0., 0., 0., 0., 0., 0., 0., 0., 0., 0., 0.,\n",
       "       0., 0., 1., 1., 1., 1., 1., 0., 0., 0., 0., 0., 0., 0., 0., 0., 0.,\n",
       "       0., 0., 0., 0., 0., 0., 0., 0., 0., 0., 1., 1., 1., 1., 1., 0.])"
      ]
     },
     "execution_count": 107,
     "metadata": {},
     "output_type": "execute_result"
    }
   ],
   "source": [
    "y_pred_new[:50]"
   ]
  },
  {
   "cell_type": "code",
   "execution_count": 108,
   "metadata": {},
   "outputs": [
    {
     "data": {
      "text/html": [
       "<div>\n",
       "<style scoped>\n",
       "    .dataframe tbody tr th:only-of-type {\n",
       "        vertical-align: middle;\n",
       "    }\n",
       "\n",
       "    .dataframe tbody tr th {\n",
       "        vertical-align: top;\n",
       "    }\n",
       "\n",
       "    .dataframe thead th {\n",
       "        text-align: right;\n",
       "    }\n",
       "</style>\n",
       "<table border=\"1\" class=\"dataframe\">\n",
       "  <thead>\n",
       "    <tr style=\"text-align: right;\">\n",
       "      <th></th>\n",
       "      <th>Predicted without PD</th>\n",
       "      <th>Predicted with PD</th>\n",
       "    </tr>\n",
       "  </thead>\n",
       "  <tbody>\n",
       "    <tr>\n",
       "      <th>Actual without PD</th>\n",
       "      <td>5499</td>\n",
       "      <td>750</td>\n",
       "    </tr>\n",
       "    <tr>\n",
       "      <th>Actual with PD</th>\n",
       "      <td>0</td>\n",
       "      <td>6250</td>\n",
       "    </tr>\n",
       "  </tbody>\n",
       "</table>\n",
       "</div>"
      ],
      "text/plain": [
       "                    Predicted without PD  Predicted with PD\n",
       "Actual without PD                   5499                750\n",
       "Actual with PD                         0               6250"
      ]
     },
     "execution_count": 108,
     "metadata": {},
     "output_type": "execute_result"
    }
   ],
   "source": [
    "cf = confusion_matrix(y_added_copy[:number_of_samples], y_pred_new[:number_of_samples])\n",
    "#print(cf)\n",
    "df_confus = pd.DataFrame(data = cf, columns = ['Predicted without PD','Predicted with PD'],\n",
    "                        index = ['Actual without PD ','Actual with PD'])\n",
    "df_confus"
   ]
  },
  {
   "cell_type": "code",
   "execution_count": 109,
   "metadata": {},
   "outputs": [],
   "source": [
    "fpr, tpr, threshold = roc_curve(y_added_copy[:number_of_samples], y_pred_new[:number_of_samples])"
   ]
  },
  {
   "cell_type": "code",
   "execution_count": 110,
   "metadata": {},
   "outputs": [],
   "source": [
    "roc_auc = auc(fpr,tpr)"
   ]
  },
  {
   "cell_type": "code",
   "execution_count": 111,
   "metadata": {},
   "outputs": [
    {
     "data": {
      "image/png": "[encoded data removed]",
      "text/plain": [
       "<Figure size 432x288 with 1 Axes>"
      ]
     },
     "metadata": {
      "needs_background": "light"
     },
     "output_type": "display_data"
    }
   ],
   "source": [
    "plt.title('Receiver Operating Characteristic')\n",
    "plt.plot(fpr, tpr, 'b', label='AUC = %0.2f'%roc_auc)\n",
    "plt.legend(loc = 'lower right')\n",
    "plt.plot([0,1],[0,1],'r--')\n",
    "plt.xlim([0,1])\n",
    "plt.ylim([0,1])\n",
    "plt.ylabel('True Positive Rate')\n",
    "plt.xlabel('False Positive Rate')\n",
    "plt.grid('on')\n",
    "plt.show()"
   ]
  },
  {
   "cell_type": "markdown",
   "metadata": {},
   "source": [
    "<b>Дополнительный проверочный набор данных №3</b>"
   ]
  },
  {
   "cell_type": "code",
   "execution_count": 67,
   "metadata": {},
   "outputs": [],
   "source": [
    "path = \"C:\\\\Users\\\\Misha\\\\Desktop\\\\Применение ИИ в ЭЭ\\\\Курсач\\\\Данные_для_обучения\\\\\"\n",
    "add_marks_name = \"Marks9.csv\"\n",
    "\n",
    "X_added_test_path = path + add_marks_name\n",
    "X_added = pd.read_csv(X_added_test_path)\n",
    "\n",
    "add_answers_name = \"Answers9.csv\"\n",
    "\n",
    "y_added_test_path = path + add_answers_name\n",
    "y_added =  pd.read_csv(y_added_test_path)\n",
    "\n",
    "\n",
    "X_added = pd.DataFrame(X_added)\n",
    "y_added = pd.DataFrame(y_added)"
   ]
  },
  {
   "cell_type": "code",
   "execution_count": 68,
   "metadata": {},
   "outputs": [],
   "source": [
    "X_added = X_added.to_numpy(dtype=('float32'))"
   ]
  },
  {
   "cell_type": "code",
   "execution_count": 69,
   "metadata": {},
   "outputs": [],
   "source": [
    "for row in X_added:\n",
    "    mean = row.mean(axis=0) # считаем среднее\n",
    "    row -= mean\n",
    "    std = row.std(axis=0) #\n",
    "    row /= std"
   ]
  },
  {
   "cell_type": "code",
   "execution_count": 70,
   "metadata": {},
   "outputs": [],
   "source": [
    "y_added_copy = y_added\n",
    "\n",
    "y_added_copy = y_added_copy.applymap(lambda x: 1 if x == True else 0)\n",
    "\n",
    "y_added = np_utils.to_categorical(y_added, 2)\n"
   ]
  },
  {
   "cell_type": "code",
   "execution_count": 71,
   "metadata": {},
   "outputs": [],
   "source": [
    "added_gen = generatorNew(X_added, y_added,                     \n",
    "                     lookback=lookback,                   \n",
    "                     delay=delay, \n",
    "                     \n",
    "                     min_index = 0,\n",
    "                     \n",
    "                     max_index = None,    \n",
    "                     \n",
    "                     step=step,                \n",
    "                     batch_size=batch_size)"
   ]
  },
  {
   "cell_type": "code",
   "execution_count": 72,
   "metadata": {},
   "outputs": [],
   "source": [
    "number_of_samples = len(y_added_copy)"
   ]
  },
  {
   "cell_type": "code",
   "execution_count": 73,
   "metadata": {},
   "outputs": [],
   "source": [
    "y_pred = model.predict_generator(added_gen, number_of_samples)"
   ]
  },
  {
   "cell_type": "code",
   "execution_count": 74,
   "metadata": {},
   "outputs": [],
   "source": [
    "y_pred_new = getLogicalArray(y_pred)"
   ]
  },
  {
   "cell_type": "code",
   "execution_count": 75,
   "metadata": {},
   "outputs": [
    {
     "data": {
      "text/plain": [
       "array([0., 0., 0., 0., 0., 0., 0., 0., 0., 0., 0., 0., 0., 0., 0., 0., 0.,\n",
       "       0., 0., 1., 1., 1., 1., 1., 0., 0., 0., 0., 0., 0., 0., 0., 0., 0.,\n",
       "       0., 0., 0., 0., 0., 0., 0., 0., 0., 0., 1., 1., 1., 1., 1., 0.])"
      ]
     },
     "execution_count": 75,
     "metadata": {},
     "output_type": "execute_result"
    }
   ],
   "source": [
    "y_pred_new[:50]"
   ]
  },
  {
   "cell_type": "code",
   "execution_count": 76,
   "metadata": {},
   "outputs": [
    {
     "data": {
      "text/html": [
       "<div>\n",
       "<style scoped>\n",
       "    .dataframe tbody tr th:only-of-type {\n",
       "        vertical-align: middle;\n",
       "    }\n",
       "\n",
       "    .dataframe tbody tr th {\n",
       "        vertical-align: top;\n",
       "    }\n",
       "\n",
       "    .dataframe thead th {\n",
       "        text-align: right;\n",
       "    }\n",
       "</style>\n",
       "<table border=\"1\" class=\"dataframe\">\n",
       "  <thead>\n",
       "    <tr style=\"text-align: right;\">\n",
       "      <th></th>\n",
       "      <th>Predicted without PD</th>\n",
       "      <th>Predicted with PD</th>\n",
       "    </tr>\n",
       "  </thead>\n",
       "  <tbody>\n",
       "    <tr>\n",
       "      <th>Actual without PD</th>\n",
       "      <td>5499</td>\n",
       "      <td>750</td>\n",
       "    </tr>\n",
       "    <tr>\n",
       "      <th>Actual with PD</th>\n",
       "      <td>0</td>\n",
       "      <td>12800</td>\n",
       "    </tr>\n",
       "  </tbody>\n",
       "</table>\n",
       "</div>"
      ],
      "text/plain": [
       "                    Predicted without PD  Predicted with PD\n",
       "Actual without PD                   5499                750\n",
       "Actual with PD                         0              12800"
      ]
     },
     "execution_count": 76,
     "metadata": {},
     "output_type": "execute_result"
    }
   ],
   "source": [
    "cf = confusion_matrix(y_added_copy[:number_of_samples], y_pred_new[:number_of_samples])\n",
    "#print(cf)\n",
    "df_confus = pd.DataFrame(data = cf, columns = ['Predicted without PD','Predicted with PD'],\n",
    "                        index = ['Actual without PD ','Actual with PD'])\n",
    "df_confus"
   ]
  },
  {
   "cell_type": "code",
   "execution_count": 77,
   "metadata": {},
   "outputs": [
    {
     "data": {
      "image/png": "[encoded data removed]",
      "text/plain": [
       "<Figure size 432x288 with 1 Axes>"
      ]
     },
     "metadata": {
      "needs_background": "light"
     },
     "output_type": "display_data"
    }
   ],
   "source": [
    "get_AUC(y_added_copy, y_pred_new, number_of_samples)"
   ]
  },
  {
   "cell_type": "code",
   "execution_count": null,
   "metadata": {},
   "outputs": [],
   "source": []
  },
  {
   "cell_type": "code",
   "execution_count": null,
   "metadata": {},
   "outputs": [],
   "source": []
  },
  {
   "cell_type": "code",
   "execution_count": null,
   "metadata": {},
   "outputs": [],
   "source": []
  },
  {
   "cell_type": "markdown",
   "metadata": {},
   "source": [
    "<b>Дополнительный проверочный набор данных №4</b>"
   ]
  },
  {
   "cell_type": "code",
   "execution_count": 78,
   "metadata": {},
   "outputs": [],
   "source": [
    "path = \"C:\\\\Users\\\\Misha\\\\Desktop\\\\Применение ИИ в ЭЭ\\\\Курсач\\\\Данные_для_обучения\\\\\"\n",
    "\n",
    "add_marks_name = \"Marks11.csv\"\n",
    "\n",
    "X_added_test_path = path + add_marks_name\n",
    "X_added = pd.read_csv(X_added_test_path)\n",
    "\n",
    "add_answers_name = \"Answers11.csv\"\n",
    "\n",
    "y_added_test_path = path + add_answers_name\n",
    "y_added =  pd.read_csv(y_added_test_path)\n",
    "\n",
    "\n",
    "X_added = pd.DataFrame(X_added)\n",
    "y_added = pd.DataFrame(y_added)"
   ]
  },
  {
   "cell_type": "code",
   "execution_count": 79,
   "metadata": {},
   "outputs": [],
   "source": [
    "X_added = X_added.to_numpy(dtype=('float32'))\n",
    "\n",
    "for row in X_added:\n",
    "    mean = row.mean(axis=0) # считаем среднее\n",
    "    row -= mean\n",
    "    std = row.std(axis=0) #\n",
    "    row /= std\n",
    "    \n",
    "y_added_copy = y_added\n",
    "y_added_copy = y_added_copy.applymap(lambda x: 1 if x == True else 0)\n",
    "y_added = np_utils.to_categorical(y_added, 2)"
   ]
  },
  {
   "cell_type": "code",
   "execution_count": 80,
   "metadata": {},
   "outputs": [],
   "source": [
    "added_gen = generatorNew(X_added, y_added,                     \n",
    "                     lookback=lookback,                   \n",
    "                     delay=delay, \n",
    "                     \n",
    "                     min_index = 0,\n",
    "                     \n",
    "                     max_index = None,    \n",
    "                     \n",
    "                     step=step,                \n",
    "                     batch_size=batch_size)"
   ]
  },
  {
   "cell_type": "code",
   "execution_count": 81,
   "metadata": {},
   "outputs": [],
   "source": [
    "number_of_samples = len(y_added_copy)\n",
    "y_pred = model.predict_generator(added_gen, number_of_samples)\n",
    "y_pred_new = getLogicalArray(y_pred)\n"
   ]
  },
  {
   "cell_type": "code",
   "execution_count": 82,
   "metadata": {},
   "outputs": [
    {
     "data": {
      "text/html": [
       "<div>\n",
       "<style scoped>\n",
       "    .dataframe tbody tr th:only-of-type {\n",
       "        vertical-align: middle;\n",
       "    }\n",
       "\n",
       "    .dataframe tbody tr th {\n",
       "        vertical-align: top;\n",
       "    }\n",
       "\n",
       "    .dataframe thead th {\n",
       "        text-align: right;\n",
       "    }\n",
       "</style>\n",
       "<table border=\"1\" class=\"dataframe\">\n",
       "  <thead>\n",
       "    <tr style=\"text-align: right;\">\n",
       "      <th></th>\n",
       "      <th>Predicted without PD</th>\n",
       "      <th>Predicted with PD</th>\n",
       "    </tr>\n",
       "  </thead>\n",
       "  <tbody>\n",
       "    <tr>\n",
       "      <th>Actual without PD</th>\n",
       "      <td>6119</td>\n",
       "      <td>180</td>\n",
       "    </tr>\n",
       "    <tr>\n",
       "      <th>Actual with PD</th>\n",
       "      <td>0</td>\n",
       "      <td>15360</td>\n",
       "    </tr>\n",
       "  </tbody>\n",
       "</table>\n",
       "</div>"
      ],
      "text/plain": [
       "                    Predicted without PD  Predicted with PD\n",
       "Actual without PD                   6119                180\n",
       "Actual with PD                         0              15360"
      ]
     },
     "execution_count": 82,
     "metadata": {},
     "output_type": "execute_result"
    }
   ],
   "source": [
    "cf = confusion_matrix(y_added_copy[:number_of_samples], y_pred_new[:number_of_samples])\n",
    "#print(cf)\n",
    "df_confus = pd.DataFrame(data = cf, columns = ['Predicted without PD','Predicted with PD'],\n",
    "                        index = ['Actual without PD ','Actual with PD'])\n",
    "df_confus"
   ]
  },
  {
   "cell_type": "code",
   "execution_count": 83,
   "metadata": {},
   "outputs": [
    {
     "data": {
      "image/png": "[encoded data removed]",
      "text/plain": [
       "<Figure size 432x288 with 1 Axes>"
      ]
     },
     "metadata": {
      "needs_background": "light"
     },
     "output_type": "display_data"
    }
   ],
   "source": [
    "get_AUC(y_added_copy, y_pred_new, number_of_samples)"
   ]
  },
  {
   "cell_type": "markdown",
   "metadata": {},
   "source": [
    "<b>Дополнительный проверочный набор данных №5</b>"
   ]
  },
  {
   "cell_type": "code",
   "execution_count": 84,
   "metadata": {},
   "outputs": [],
   "source": [
    "path = \"C:\\\\Users\\\\Misha\\\\Desktop\\\\Применение ИИ в ЭЭ\\\\Курсач\\\\Данные_для_обучения\\\\\"\n",
    "add_marks_name = \"Marks7.csv\"\n",
    "\n",
    "X_added_test_path = path + add_marks_name\n",
    "X_added = pd.read_csv(X_added_test_path)\n",
    "\n",
    "add_answers_name = \"Answers7.csv\"\n",
    "\n",
    "y_added_test_path = path + add_answers_name\n",
    "y_added =  pd.read_csv(y_added_test_path)\n",
    "\n",
    "\n",
    "X_added = pd.DataFrame(X_added)\n",
    "y_added = pd.DataFrame(y_added)"
   ]
  },
  {
   "cell_type": "code",
   "execution_count": 85,
   "metadata": {},
   "outputs": [],
   "source": [
    "X_added = X_added.to_numpy(dtype=('float32'))\n",
    "\n",
    "for row in X_added:\n",
    "    mean = row.mean(axis=0) # считаем среднее\n",
    "    row -= mean\n",
    "    std = row.std(axis=0) #\n",
    "    row /= std\n",
    "    \n",
    "y_added_copy = y_added\n",
    "y_added_copy = y_added_copy.applymap(lambda x: 1 if x == True else 0)\n",
    "y_added = np_utils.to_categorical(y_added, 2)"
   ]
  },
  {
   "cell_type": "code",
   "execution_count": 86,
   "metadata": {},
   "outputs": [],
   "source": [
    "added_gen = generatorNew(X_added, y_added,                     \n",
    "                     lookback=lookback,                   \n",
    "                     delay=delay, \n",
    "                     \n",
    "                     min_index = 0,\n",
    "                     \n",
    "                     max_index = None,    \n",
    "                     \n",
    "                     step=step,                \n",
    "                     batch_size=batch_size)"
   ]
  },
  {
   "cell_type": "code",
   "execution_count": 87,
   "metadata": {},
   "outputs": [],
   "source": [
    "number_of_samples = len(y_added_copy)\n",
    "y_pred = model.predict_generator(added_gen, number_of_samples)\n",
    "y_pred_new = getLogicalArray(y_pred)"
   ]
  },
  {
   "cell_type": "code",
   "execution_count": 88,
   "metadata": {},
   "outputs": [
    {
     "data": {
      "text/html": [
       "<div>\n",
       "<style scoped>\n",
       "    .dataframe tbody tr th:only-of-type {\n",
       "        vertical-align: middle;\n",
       "    }\n",
       "\n",
       "    .dataframe tbody tr th {\n",
       "        vertical-align: top;\n",
       "    }\n",
       "\n",
       "    .dataframe thead th {\n",
       "        text-align: right;\n",
       "    }\n",
       "</style>\n",
       "<table border=\"1\" class=\"dataframe\">\n",
       "  <thead>\n",
       "    <tr style=\"text-align: right;\">\n",
       "      <th></th>\n",
       "      <th>Predicted without PD</th>\n",
       "      <th>Predicted with PD</th>\n",
       "    </tr>\n",
       "  </thead>\n",
       "  <tbody>\n",
       "    <tr>\n",
       "      <th>Actual without PD</th>\n",
       "      <td>5499</td>\n",
       "      <td>750</td>\n",
       "    </tr>\n",
       "    <tr>\n",
       "      <th>Actual with PD</th>\n",
       "      <td>0</td>\n",
       "      <td>6250</td>\n",
       "    </tr>\n",
       "  </tbody>\n",
       "</table>\n",
       "</div>"
      ],
      "text/plain": [
       "                    Predicted without PD  Predicted with PD\n",
       "Actual without PD                   5499                750\n",
       "Actual with PD                         0               6250"
      ]
     },
     "execution_count": 88,
     "metadata": {},
     "output_type": "execute_result"
    }
   ],
   "source": [
    "cf = confusion_matrix(y_added_copy[:number_of_samples], y_pred_new[:number_of_samples])\n",
    "#print(cf)\n",
    "df_confus = pd.DataFrame(data = cf, columns = ['Predicted without PD','Predicted with PD'],\n",
    "                        index = ['Actual without PD ','Actual with PD'])\n",
    "df_confus"
   ]
  },
  {
   "cell_type": "code",
   "execution_count": 89,
   "metadata": {},
   "outputs": [
    {
     "data": {
      "image/png": "[encoded data removed]",
      "text/plain": [
       "<Figure size 432x288 with 1 Axes>"
      ]
     },
     "metadata": {
      "needs_background": "light"
     },
     "output_type": "display_data"
    }
   ],
   "source": [
    "get_AUC(y_added_copy, y_pred_new, number_of_samples)"
   ]
  },
  {
   "cell_type": "code",
   "execution_count": null,
   "metadata": {},
   "outputs": [],
   "source": []
  },
  {
   "cell_type": "code",
   "execution_count": null,
   "metadata": {},
   "outputs": [],
   "source": []
  },
  {
   "cell_type": "code",
   "execution_count": null,
   "metadata": {},
   "outputs": [],
   "source": []
  },
  {
   "cell_type": "code",
   "execution_count": null,
   "metadata": {},
   "outputs": [],
   "source": []
  },
  {
   "cell_type": "code",
   "execution_count": null,
   "metadata": {},
   "outputs": [],
   "source": []
  },
  {
   "cell_type": "code",
   "execution_count": null,
   "metadata": {},
   "outputs": [],
   "source": []
  },
  {
   "cell_type": "code",
   "execution_count": null,
   "metadata": {},
   "outputs": [],
   "source": []
  }
 ],
 "metadata": {
  "kernelspec": {
   "display_name": "Python 3",
   "language": "python",
   "name": "python3"
  },
  "language_info": {
   "codemirror_mode": {
    "name": "ipython",
    "version": 3
   },
   "file_extension": ".py",
   "mimetype": "text/x-python",
   "name": "python",
   "nbconvert_exporter": "python",
   "pygments_lexer": "ipython3",
   "version": "3.7.10"
  }
 },
 "nbformat": 4,
 "nbformat_minor": 4
}
